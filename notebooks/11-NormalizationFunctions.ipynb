{
 "cells": [
  {
   "cell_type": "code",
   "execution_count": 1,
   "id": "263bca97-aefd-4c1c-bbc1-b6986ecfb56a",
   "metadata": {},
   "outputs": [],
   "source": [
    "from pathlib import Path\n",
    "\n",
    "import matplotlib.patches as mpatches\n",
    "import matplotlib.pyplot as plt\n",
    "import numpy as np\n",
    "import torch\n",
    "from IPython.display import Image, display\n",
    "\n",
    "\n",
    "def l2_norm(x):\n",
    "    return torch.linalg.vector_norm(x, dim=-1, keepdim=True)\n",
    "\n",
    "\n",
    "x = torch.tensor(\n",
    "    [\n",
    "        [1.68, 0.64],\n",
    "        [1.17, 1.45],\n",
    "        [-1.98, -0.93],\n",
    "    ]\n",
    ")\n",
    "\n",
    "p = Path(\"11-NormalizationFunctions\")\n",
    "p.mkdir(exist_ok=True)"
   ]
  },
  {
   "cell_type": "code",
   "execution_count": 2,
   "id": "b98988ad-e1e2-455b-bbea-95b52b2380c7",
   "metadata": {},
   "outputs": [
    {
     "data": {
      "text/html": [
       "<img src=\"11-NormalizationFunctions/inputs.svg\"/>"
      ],
      "text/plain": [
       "<IPython.core.display.Image object>"
      ]
     },
     "metadata": {},
     "output_type": "display_data"
    }
   ],
   "source": [
    "fig, ax = plt.subplots(1, 1, figsize=(5, 5))\n",
    "for i in range(x.shape[0]):\n",
    "    ax.plot([x[i, 0], 0], [x[i, 1], 0], color=f\"C{i}\", marker=\"o\", markevery=2)\n",
    "\n",
    "ax.add_patch(mpatches.Circle((0, 0), 1, fill=False))\n",
    "ax.set_xlim(-2.1, 2.1)\n",
    "ax.set_ylim(-2.1, 2.1)\n",
    "ax.axvline(0, lw=0.5, color=\"black\")\n",
    "ax.axhline(0, lw=0.5, color=\"black\")\n",
    "ax.set_aspect(\"equal\")\n",
    "ax.set_title(\"Inputs\")\n",
    "\n",
    "fig.set_facecolor(\"white\")\n",
    "fig.savefig(p / \"inputs.svg\")\n",
    "plt.close(fig)\n",
    "display(Image(url=p / \"inputs.svg\"))"
   ]
  },
  {
   "cell_type": "markdown",
   "id": "8a6bb45b-a9ea-43a5-8af0-f7d365b8bec5",
   "metadata": {},
   "source": [
    "Norm\n",
    "\n",
    "$$y = \\frac{x}{||x||}$$\n",
    "\n",
    "All points end up on the unit circle."
   ]
  },
  {
   "cell_type": "code",
   "execution_count": 3,
   "id": "1fc5d5be-fbf2-43e6-9d4c-be0e689c2013",
   "metadata": {},
   "outputs": [
    {
     "data": {
      "text/html": [
       "<img src=\"11-NormalizationFunctions/l2_norm.svg\"/>"
      ],
      "text/plain": [
       "<IPython.core.display.Image object>"
      ]
     },
     "metadata": {},
     "output_type": "display_data"
    }
   ],
   "source": [
    "y = x / l2_norm(x)\n",
    "\n",
    "fig, ax = plt.subplots(1, 1, figsize=(5, 5))\n",
    "for i in range(x.shape[0]):\n",
    "    ax.plot(\n",
    "        [x[i, 0], 0], [x[i, 1], 0], color=f\"C{i}\", marker=\"o\", markevery=2, alpha=0.5\n",
    "    )\n",
    "    ax.plot([y[i, 0], 0], [y[i, 1], 0], color=f\"C{i}\", marker=\"o\", markevery=2)\n",
    "\n",
    "ax.add_patch(mpatches.Circle((0, 0), 1, fill=False))\n",
    "ax.set_xlim(-2.1, 2.1)\n",
    "ax.set_ylim(-2.1, 2.1)\n",
    "ax.axvline(0, lw=0.5, color=\"black\")\n",
    "ax.axhline(0, lw=0.5, color=\"black\")\n",
    "ax.set_aspect(\"equal\")\n",
    "ax.set_title(\"L2 Norm\")\n",
    "\n",
    "fig.set_facecolor(\"white\")\n",
    "fig.savefig(p / \"l2_norm.svg\")\n",
    "plt.close(fig)\n",
    "display(Image(url=p / \"l2_norm.svg\"))"
   ]
  },
  {
   "cell_type": "markdown",
   "id": "99cf34db-a933-4b0c-971e-b071c23215bf",
   "metadata": {},
   "source": [
    "Squash (original)\n",
    "\n",
    "$$y = \\frac{||x||^2}{1 + ||x||^2} \\frac{x}{||x||}$$\n",
    "\n",
    "All points end up inside the unit circle, with a radius proportional to their original norm."
   ]
  },
  {
   "cell_type": "code",
   "execution_count": 4,
   "id": "c83bac19-7014-466d-a2dd-597d6d38088e",
   "metadata": {},
   "outputs": [
    {
     "data": {
      "text/html": [
       "<img src=\"11-NormalizationFunctions/squash.svg\"/>"
      ],
      "text/plain": [
       "<IPython.core.display.Image object>"
      ]
     },
     "metadata": {},
     "output_type": "display_data"
    }
   ],
   "source": [
    "y = (l2_norm(x) ** 2 / (1 + l2_norm(x)) ** 2) * (x / l2_norm(x))\n",
    "\n",
    "fig, ax = plt.subplots(1, 1, figsize=(5, 5))\n",
    "for i in range(x.shape[0]):\n",
    "    ax.plot(\n",
    "        [x[i, 0], 0], [x[i, 1], 0], color=f\"C{i}\", marker=\"o\", markevery=2, alpha=0.5\n",
    "    )\n",
    "    ax.plot([y[i, 0], 0], [y[i, 1], 0], color=f\"C{i}\", marker=\"o\", markevery=2)\n",
    "\n",
    "ax.add_patch(mpatches.Circle((0, 0), 1, fill=False))\n",
    "ax.set_xlim(-2.1, 2.1)\n",
    "ax.set_ylim(-2.1, 2.1)\n",
    "ax.axvline(0, lw=0.5, color=\"black\")\n",
    "ax.axhline(0, lw=0.5, color=\"black\")\n",
    "ax.set_aspect(\"equal\")\n",
    "ax.set_title(\"Squash\")\n",
    "\n",
    "fig.set_facecolor(\"white\")\n",
    "fig.savefig(p / \"squash.svg\")\n",
    "plt.close(fig)\n",
    "display(Image(url=p / \"squash.svg\"))"
   ]
  },
  {
   "cell_type": "markdown",
   "id": "eaae5937-e82c-4d2f-910a-ececd5624718",
   "metadata": {},
   "source": [
    "Squash (improved)\n",
    "\n",
    "$$y = \\left(1 - \\frac{1}{\\exp ||x||}\\right) \\frac{x}{||x||}$$\n",
    "\n",
    "All points end up inside the unit circle, with a radius proportional to their original norm.\n",
    "However, the proportionality function is different from the original squash."
   ]
  },
  {
   "cell_type": "code",
   "execution_count": 5,
   "id": "56ac78f7-88f6-4505-a623-311d4f9deff9",
   "metadata": {},
   "outputs": [
    {
     "data": {
      "text/html": [
       "<img src=\"11-NormalizationFunctions/squash_improved.svg\"/>"
      ],
      "text/plain": [
       "<IPython.core.display.Image object>"
      ]
     },
     "metadata": {},
     "output_type": "display_data"
    }
   ],
   "source": [
    "y = (1 - 1 / l2_norm(x).exp()) * (x / l2_norm(x))\n",
    "\n",
    "fig, ax = plt.subplots(1, 1, figsize=(5, 5))\n",
    "for i in range(x.shape[0]):\n",
    "    ax.plot(\n",
    "        [x[i, 0], 0], [x[i, 1], 0], color=f\"C{i}\", marker=\"o\", markevery=2, alpha=0.5\n",
    "    )\n",
    "    ax.plot([y[i, 0], 0], [y[i, 1], 0], color=f\"C{i}\", marker=\"o\", markevery=2)\n",
    "\n",
    "ax.add_patch(mpatches.Circle((0, 0), 1, fill=False))\n",
    "ax.set_xlim(-2.1, 2.1)\n",
    "ax.set_ylim(-2.1, 2.1)\n",
    "ax.axvline(0, lw=0.5, color=\"black\")\n",
    "ax.axhline(0, lw=0.5, color=\"black\")\n",
    "ax.set_aspect(\"equal\")\n",
    "ax.set_title(\"Squash Improved\")\n",
    "\n",
    "fig.set_facecolor(\"white\")\n",
    "fig.savefig(p / \"squash_improved.svg\")\n",
    "plt.close(fig)\n",
    "display(Image(url=p / \"squash_improved.svg\"))"
   ]
  },
  {
   "cell_type": "markdown",
   "id": "e93a4719-8af8-4bdb-845b-da5645b52c25",
   "metadata": {},
   "source": [
    "Layer normalization\n",
    "\n",
    "$$y = \\frac{x - \\text{mean}(x)}{\\text{std}(x)}$$\n",
    "\n",
    "All points are projected to a $D-1$ subspace that is the intersection between the unit hypersphere (a circle) and the plane perpendicular to $(1, 1, \\ldots, 1) \\in \\mathbb{R}^D$ (the bisector of the 2nd and 4th quadrants)."
   ]
  },
  {
   "cell_type": "code",
   "execution_count": 6,
   "id": "139fa454-e26c-4c38-a8df-d16d5a277bd4",
   "metadata": {},
   "outputs": [
    {
     "data": {
      "text/html": [
       "<img src=\"11-NormalizationFunctions/layer_norm.svg\"/>"
      ],
      "text/plain": [
       "<IPython.core.display.Image object>"
      ]
     },
     "metadata": {},
     "output_type": "display_data"
    }
   ],
   "source": [
    "y = (x - x.mean(dim=-1, keepdim=True)) / x.std(dim=-1, keepdim=True)\n",
    "\n",
    "fig, ax = plt.subplots(1, 1, figsize=(5, 5))\n",
    "for i in range(x.shape[0]):\n",
    "    ax.plot(\n",
    "        [x[i, 0], 0], [x[i, 1], 0], color=f\"C{i}\", marker=\"o\", markevery=2, alpha=0.5\n",
    "    )\n",
    "    ax.plot([y[i, 0], 0], [y[i, 1], 0], color=f\"C{i}\", marker=\"o\", markevery=2)\n",
    "\n",
    "ax.add_patch(mpatches.Circle((0, 0), 1, fill=False))\n",
    "ax.set_xlim(-2.1, 2.1)\n",
    "ax.set_ylim(-2.1, 2.1)\n",
    "ax.axvline(0, lw=0.5, color=\"black\")\n",
    "ax.axhline(0, lw=0.5, color=\"black\")\n",
    "ax.set_aspect(\"equal\")\n",
    "ax.set_title(\"Layer Normalization\")\n",
    "\n",
    "fig.set_facecolor(\"white\")\n",
    "fig.savefig(p / \"layer_norm.svg\")\n",
    "plt.close(fig)\n",
    "display(Image(url=p / \"layer_norm.svg\"))"
   ]
  }
 ],
 "metadata": {
  "kernelspec": {
   "display_name": "Python 3 (ipykernel)",
   "language": "python",
   "name": "python3"
  },
  "language_info": {
   "codemirror_mode": {
    "name": "ipython",
    "version": 3
   },
   "file_extension": ".py",
   "mimetype": "text/x-python",
   "name": "python",
   "nbconvert_exporter": "python",
   "pygments_lexer": "ipython3",
   "version": "3.9.10"
  },
  "widgets": {
   "application/vnd.jupyter.widget-state+json": {
    "state": {},
    "version_major": 2,
    "version_minor": 0
   }
  }
 },
 "nbformat": 4,
 "nbformat_minor": 5
}
