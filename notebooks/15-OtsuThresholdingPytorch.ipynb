{
 "cells": [
  {
   "cell_type": "code",
   "execution_count": 1,
   "id": "7d9041bd-3c4e-482e-94ef-131eafbc5631",
   "metadata": {},
   "outputs": [
    {
     "data": {
      "image/png": "[encoded data removed]",
      "text/plain": [
       "<PIL.Image.Image image mode=L size=128x100>"
      ]
     },
     "metadata": {},
     "output_type": "display_data"
    },
    {
     "name": "stdout",
     "output_type": "stream",
     "text": [
      "(100, 128) torch.float32 0.007843137718737125 1.0\n",
      "(100, 128) float64 0.00784313725490196 1.0\n"
     ]
    }
   ],
   "source": [
    "import numpy as np\n",
    "import PIL.Image\n",
    "import torch\n",
    "import torchvision.transforms.functional as tv\n",
    "from IPython.display import display\n",
    "\n",
    "img = PIL.Image.open(\"dog.jpg\").convert(\"L\")\n",
    "img.thumbnail((128, 128))\n",
    "display(img)\n",
    "\n",
    "img_pt = tv.pil_to_tensor(img)\n",
    "img_pt = tv.convert_image_dtype(img_pt, torch.float32)\n",
    "img_pt = img_pt.squeeze(0)\n",
    "print(tuple(img_pt.shape), img_pt.dtype, img_pt.min().item(), img_pt.max().item())\n",
    "\n",
    "img_np = np.array(img) / 255.0\n",
    "print(img_np.shape, img_np.dtype, img_np.min(), img_np.max())"
   ]
  },
  {
   "cell_type": "code",
   "execution_count": 2,
   "id": "d9126cc4-d5e1-45a4-83dd-d82300f3cfb1",
   "metadata": {},
   "outputs": [
    {
     "name": "stdout",
     "output_type": "stream",
     "text": [
      "0.5213618259803922\n"
     ]
    },
    {
     "data": {
      "image/png": "[encoded data removed]",
      "text/plain": [
       "<PIL.Image.Image image mode=1 size=128x100>"
      ]
     },
     "metadata": {},
     "output_type": "display_data"
    },
    {
     "name": "stdout",
     "output_type": "stream",
     "text": [
      "0.5213618\n"
     ]
    },
    {
     "data": {
      "image/png": "[encoded data removed]",
      "text/plain": [
       "<PIL.Image.Image image mode=1 size=128x100>"
      ]
     },
     "metadata": {},
     "output_type": "display_data"
    }
   ],
   "source": [
    "from skimage.filters.thresholding import threshold_otsu\n",
    "\n",
    "print(threshold_otsu(img_np))\n",
    "display(PIL.Image.fromarray(img_np > threshold_otsu(img_np, nbins=100)))\n",
    "\n",
    "print(threshold_otsu(img_pt.numpy()))\n",
    "display(PIL.Image.fromarray(img_pt.numpy() > threshold_otsu(img_pt.numpy())))"
   ]
  },
  {
   "cell_type": "code",
   "execution_count": 3,
   "id": "ea291e0a-fbb9-4588-8eba-4284d81e338f",
   "metadata": {},
   "outputs": [
    {
     "name": "stdout",
     "output_type": "stream",
     "text": [
      "0.5213618259803922\n",
      "0.5213618259803922\n"
     ]
    }
   ],
   "source": [
    "# Simplified from skimage.filters.thresholding.threshold_otsu\n",
    "def threshold_otsu_np(img_np, bins=256):\n",
    "    counts, bin_edges = np.histogram(img_np, bins=bins, range=None)\n",
    "    bin_centers = (bin_edges[1:] + bin_edges[:-1]) / 2\n",
    "\n",
    "    # class probabilities for all possible thresholds\n",
    "    weight1 = np.cumsum(counts)\n",
    "    weight2 = np.cumsum(counts[::-1])[::-1]\n",
    "\n",
    "    # class means for all possible thresholds\n",
    "    mean1 = np.cumsum(counts * bin_centers) / weight1\n",
    "    mean2 = (np.cumsum((counts * bin_centers)[::-1]) / weight2[::-1])[::-1]\n",
    "\n",
    "    # Clip ends to align class 1 and class 2 variables:\n",
    "    # The last value of ``weight1``/``mean1`` should pair with zero values in\n",
    "    # ``weight2``/``mean2``, which do not exist.\n",
    "    variance12 = weight1[:-1] * weight2[1:] * (mean1[:-1] - mean2[1:]) ** 2\n",
    "\n",
    "    idx = np.argmax(variance12)\n",
    "    threshold = bin_centers[idx]\n",
    "    return threshold\n",
    "\n",
    "\n",
    "print(threshold_otsu(img_np))\n",
    "print(threshold_otsu_np(img_np))"
   ]
  },
  {
   "cell_type": "code",
   "execution_count": 4,
   "id": "65864633-3a74-4485-82c8-4d874c9baf28",
   "metadata": {},
   "outputs": [
    {
     "name": "stdout",
     "output_type": "stream",
     "text": [
      "0.5213618\n",
      "0.5213618278503418\n"
     ]
    }
   ],
   "source": [
    "# Adapted from skimage.filters.thresholding.threshold_otsu\n",
    "def threshold_otsu_pt(img_pt, bins=256):\n",
    "    counts, bin_edges = torch.histogram(img_pt, bins=bins, range=None)\n",
    "    bin_centers = (bin_edges[1:] + bin_edges[:-1]) / 2\n",
    "\n",
    "    # class probabilities for all possible thresholds\n",
    "    weight1 = counts.cumsum(-1)\n",
    "    weight2 = counts.flip(-1).cumsum(-1)\n",
    "\n",
    "    # class means for all possible thresholds\n",
    "    cbc = counts * bin_centers\n",
    "    mean1 = cbc.cumsum(-1) / weight1\n",
    "    mean2 = (cbc.flip(-1).cumsum(-1) / weight2).flip(-1)\n",
    "\n",
    "    # Clip ends to align class 1 and class 2 variables:\n",
    "    # The last value of ``weight1``/``mean1`` should pair with zero values in\n",
    "    # ``weight2``/``mean2``, which do not exist.\n",
    "    weight2 = weight2.flip(-1)\n",
    "    variance12 = weight1[:-1] * weight2[1:] * (mean1[:-1] - mean2[1:]) ** 2\n",
    "\n",
    "    idx = variance12.argmax(-1)\n",
    "    threshold = bin_centers[idx]\n",
    "    return threshold\n",
    "\n",
    "\n",
    "print(threshold_otsu(img_pt.numpy()))\n",
    "print(threshold_otsu_pt(img_pt).item())"
   ]
  },
  {
   "cell_type": "code",
   "execution_count": 5,
   "id": "5557dce7-b7be-4c2f-bc90-2764e8b31066",
   "metadata": {},
   "outputs": [
    {
     "name": "stdout",
     "output_type": "stream",
     "text": [
      "[[0.5213618 0.2606809]\n",
      " [0.7606809 0.5737873]\n",
      " [2.706809  0.5135187]]\n",
      "[[0.5213618 0.2606809]\n",
      " [0.7606809 0.5737873]\n",
      " [2.706809  0.5135187]]\n"
     ]
    }
   ],
   "source": [
    "@torch.jit.script\n",
    "def threshold_otsu_pt(imgs_pt, bins:int=256):\n",
    "    H, W = imgs_pt.shape[-2:]\n",
    "    x = imgs_pt.reshape(-1, H * W)\n",
    "    B = x.shape[0]\n",
    "    counts = x.new_empty((B, bins))\n",
    "    bin_edges = x.new_empty((B, bins + 1))\n",
    "    for b in range(B):\n",
    "        counts[b], bin_edges[b] = torch.histogram(x[b], bins=bins, range=None)\n",
    "    bin_centers = (bin_edges[:, 1:] + bin_edges[:, :-1]) / 2\n",
    "\n",
    "    # class probabilities for all possible thresholds\n",
    "    weight1 = counts.cumsum(-1)\n",
    "    weight2 = counts.flip(-1).cumsum(-1)\n",
    "\n",
    "    # class means for all possible thresholds\n",
    "    cbc = counts * bin_centers\n",
    "    mean1 = cbc.cumsum(-1) / weight1\n",
    "    mean2 = (cbc.flip(-1).cumsum(-1) / weight2).flip(-1)\n",
    "\n",
    "    # Clip ends to align class 1 and class 2 variables:\n",
    "    # The last value of ``weight1``/``mean1`` should pair with zero values in\n",
    "    # ``weight2``/``mean2``, which do not exist.\n",
    "    weight2 = weight2.flip(-1)\n",
    "    variance12 = weight1[:, :-1] * weight2[:, 1:] * (mean1[:, :-1] - mean2[:, 1:]) ** 2\n",
    "\n",
    "    idx = variance12.argmax(-1, keepdim=True)\n",
    "    threshold = bin_centers.gather(-1, idx)\n",
    "    return threshold.reshape(imgs_pt.shape[:-2])\n",
    "\n",
    "imgs_pt = torch.stack(\n",
    "    [\n",
    "        img_pt,\n",
    "        img_pt / 2,\n",
    "        img_pt / 2 + 0.5,\n",
    "        img_pt / 3 + 0.4,\n",
    "        img_pt * 5 + 0.1,\n",
    "        img_pt - img_pt.min(),\n",
    "    ]\n",
    ").reshape(3, 2, *img_pt.shape)\n",
    "\n",
    "print(\n",
    "    np.array(\n",
    "        [\n",
    "            [\n",
    "                threshold_otsu(imgs_pt[b, a].numpy())\n",
    "                for a in range(imgs_pt.shape[1])\n",
    "            ]\n",
    "            for b in range(imgs_pt.shape[0])\n",
    "        ]\n",
    "    )\n",
    ")\n",
    "print(threshold_otsu_pt(imgs_pt).numpy())"
   ]
  }
 ],
 "metadata": {
  "kernelspec": {
   "display_name": "Python 3 (ipykernel)",
   "language": "python",
   "name": "python3"
  },
  "language_info": {
   "codemirror_mode": {
    "name": "ipython",
    "version": 3
   },
   "file_extension": ".py",
   "mimetype": "text/x-python",
   "name": "python",
   "nbconvert_exporter": "python",
   "pygments_lexer": "ipython3",
   "version": "3.9.12"
  },
  "widgets": {
   "application/vnd.jupyter.widget-state+json": {
    "state": {},
    "version_major": 2,
    "version_minor": 0
   }
  }
 },
 "nbformat": 4,
 "nbformat_minor": 5
}
