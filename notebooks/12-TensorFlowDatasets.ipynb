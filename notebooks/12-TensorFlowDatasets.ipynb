{
 "cells": [
  {
   "cell_type": "code",
   "execution_count": 1,
   "id": "6b7199f1-8fb6-4407-8369-bcf466a42471",
   "metadata": {},
   "outputs": [
    {
     "name": "stderr",
     "output_type": "stream",
     "text": [
      "2022-03-17 15:24:31.020118: I tensorflow/core/platform/cpu_feature_guard.cc:151] This TensorFlow binary is optimized with oneAPI Deep Neural Network Library (oneDNN) to use the following CPU instructions in performance-critical operations:  SSE4.1 SSE4.2 AVX AVX2 FMA\n",
      "To enable them in other operations, rebuild TensorFlow with the appropriate compiler flags.\n"
     ]
    }
   ],
   "source": [
    "import tensorflow as tf\n",
    "\n",
    "SEED = tf.constant(42, dtype=tf.int64)"
   ]
  },
  {
   "cell_type": "markdown",
   "id": "8c3d2059-b44f-4419-891d-a4e90a7a0eab",
   "metadata": {},
   "source": [
    "## Range"
   ]
  },
  {
   "cell_type": "markdown",
   "id": "e37a56bc-3896-4f71-bab6-a0dfaea03d58",
   "metadata": {},
   "source": [
    "Repeats always the same."
   ]
  },
  {
   "cell_type": "code",
   "execution_count": 2,
   "id": "8e31dd79-8b20-42ea-8ee6-6e7dd5e8ff19",
   "metadata": {},
   "outputs": [
    {
     "name": "stdout",
     "output_type": "stream",
     "text": [
      "[0, 1, 2, 3, 4]\n",
      "[0, 1, 2, 3, 4]\n"
     ]
    }
   ],
   "source": [
    "ds = tf.data.Dataset.range(5)\n",
    "\n",
    "print([int(x) for x in ds])\n",
    "print([int(x) for x in ds])"
   ]
  },
  {
   "cell_type": "code",
   "execution_count": 3,
   "id": "fadcaed8-c79f-4595-816d-29d84ee92a48",
   "metadata": {},
   "outputs": [
    {
     "name": "stdout",
     "output_type": "stream",
     "text": [
      "[0, 1, 2, 3, 4, 0, 1, 2, 3, 4]\n",
      "[0, 1, 2, 3, 4, 0, 1, 2, 3, 4]\n"
     ]
    }
   ],
   "source": [
    "ds = tf.data.Dataset.range(5)\n",
    "ds = ds.repeat(2)\n",
    "\n",
    "print([int(x) for x in ds])\n",
    "print([int(x) for x in ds])"
   ]
  },
  {
   "cell_type": "markdown",
   "id": "d3b956ac-53a2-479d-ac2b-cc63afa10458",
   "metadata": {},
   "source": [
    "It's possible to decide whether each iteration/repetition should be shuffled identically or not."
   ]
  },
  {
   "cell_type": "code",
   "execution_count": 4,
   "id": "4b02776e-3c9e-48fe-a8b8-a0866ae4873e",
   "metadata": {},
   "outputs": [
    {
     "name": "stdout",
     "output_type": "stream",
     "text": [
      "[2, 1, 3, 4, 0]\n",
      "[2, 1, 3, 4, 0]\n"
     ]
    }
   ],
   "source": [
    "ds = tf.data.Dataset.range(5)\n",
    "ds = ds.shuffle(5, seed=SEED, reshuffle_each_iteration=False)\n",
    "\n",
    "print([int(x) for x in ds])\n",
    "print([int(x) for x in ds])"
   ]
  },
  {
   "cell_type": "code",
   "execution_count": 5,
   "id": "6d390a07-37dd-45c8-b028-44bf7b3539da",
   "metadata": {},
   "outputs": [
    {
     "name": "stdout",
     "output_type": "stream",
     "text": [
      "[0, 4, 1, 3, 2]\n",
      "[3, 4, 1, 0, 2]\n"
     ]
    }
   ],
   "source": [
    "ds = tf.data.Dataset.range(5)\n",
    "ds = ds.shuffle(5, seed=SEED, reshuffle_each_iteration=True)\n",
    "\n",
    "print([int(x) for x in ds])\n",
    "print([int(x) for x in ds])"
   ]
  },
  {
   "cell_type": "code",
   "execution_count": 6,
   "id": "6bfad964-32fa-4bcd-a92b-bf3e300c8ae5",
   "metadata": {},
   "outputs": [
    {
     "name": "stdout",
     "output_type": "stream",
     "text": [
      "[2, 1, 3, 4, 0, 2, 1, 3, 4, 0]\n",
      "[2, 1, 3, 4, 0, 2, 1, 3, 4, 0]\n"
     ]
    }
   ],
   "source": [
    "ds = tf.data.Dataset.range(5)\n",
    "ds = ds.shuffle(5, seed=SEED, reshuffle_each_iteration=False).repeat(2)\n",
    "\n",
    "print([int(x) for x in ds])\n",
    "print([int(x) for x in ds])"
   ]
  },
  {
   "cell_type": "code",
   "execution_count": 7,
   "id": "3d873a6c-e81c-46cd-bae5-3c9ef87ad482",
   "metadata": {},
   "outputs": [
    {
     "name": "stdout",
     "output_type": "stream",
     "text": [
      "[0, 4, 1, 3, 2, 3, 4, 1, 0, 2]\n",
      "[2, 4, 3, 0, 1, 1, 2, 4, 3, 0]\n"
     ]
    }
   ],
   "source": [
    "ds = tf.data.Dataset.range(5)\n",
    "ds = ds.shuffle(5, seed=SEED, reshuffle_each_iteration=True).repeat(2)\n",
    "\n",
    "print([int(x) for x in ds])\n",
    "print([int(x) for x in ds])"
   ]
  },
  {
   "cell_type": "markdown",
   "id": "0c3d99a7-79a6-46aa-9198-8f8bf90e1198",
   "metadata": {},
   "source": [
    "## Random"
   ]
  },
  {
   "cell_type": "markdown",
   "id": "725b3a73-839a-4737-8e11-f6c3b397ca29",
   "metadata": {},
   "source": [
    "Repeats always the same."
   ]
  },
  {
   "cell_type": "code",
   "execution_count": 8,
   "id": "07dfefa3-c832-4a11-8685-e7eb204ba546",
   "metadata": {},
   "outputs": [
    {
     "name": "stdout",
     "output_type": "stream",
     "text": [
      "[2985944072, 4132877644, 929418493, 249609589, 146598941]\n",
      "[2985944072, 4132877644, 929418493, 249609589, 146598941]\n"
     ]
    }
   ],
   "source": [
    "ds = tf.data.Dataset.random(SEED).take(5)\n",
    "\n",
    "print([int(x) for x in ds])\n",
    "print([int(x) for x in ds])"
   ]
  },
  {
   "cell_type": "code",
   "execution_count": 9,
   "id": "1c36142f-c357-4d93-88e2-d4d3ec93beba",
   "metadata": {},
   "outputs": [
    {
     "name": "stdout",
     "output_type": "stream",
     "text": [
      "[2985944072, 4132877644, 929418493, 249609589, 146598941, 2985944072, 4132877644, 929418493, 249609589, 146598941]\n",
      "[2985944072, 4132877644, 929418493, 249609589, 146598941, 2985944072, 4132877644, 929418493, 249609589, 146598941]\n"
     ]
    }
   ],
   "source": [
    "ds = tf.data.Dataset.random(SEED).take(5).repeat(2)\n",
    "\n",
    "print([int(x) for x in ds])\n",
    "print([int(x) for x in ds])"
   ]
  },
  {
   "cell_type": "markdown",
   "id": "668dd8c5-1776-4b78-8b4e-b1dc874f1b7c",
   "metadata": {},
   "source": [
    "`.take().shuffle()` changes the order for each iteration but not the values."
   ]
  },
  {
   "cell_type": "code",
   "execution_count": 10,
   "id": "7f9d483e-efd9-4583-b694-401122c616fe",
   "metadata": {},
   "outputs": [
    {
     "name": "stdout",
     "output_type": "stream",
     "text": [
      "[2985944072, 146598941, 4132877644, 249609589, 929418493]\n",
      "[249609589, 146598941, 4132877644, 2985944072, 929418493]\n"
     ]
    }
   ],
   "source": [
    "ds = tf.data.Dataset.random(SEED)\n",
    "ds = ds.take(5)\n",
    "ds = ds.shuffle(100, seed=SEED, reshuffle_each_iteration=True)\n",
    "\n",
    "print([int(x) for x in ds])\n",
    "print([int(x) for x in ds])"
   ]
  },
  {
   "cell_type": "markdown",
   "id": "43ae267d-6108-4339-bbab-9368d43ac6c0",
   "metadata": {},
   "source": [
    "`.shuffle().take()` with a shuffle buffer larger than the number of samples produces \"new\" values at each iteration."
   ]
  },
  {
   "cell_type": "code",
   "execution_count": 11,
   "id": "b8d41606-07c8-44f7-a4de-1748a0f5eca5",
   "metadata": {},
   "outputs": [
    {
     "name": "stdout",
     "output_type": "stream",
     "text": [
      "[3303851199, 866379548, 1594211652, 166708789, 3450168618]\n",
      "[1800241147, 4095532955, 929418493, 4003652595, 1283632452]\n"
     ]
    }
   ],
   "source": [
    "ds = tf.data.Dataset.random(SEED)\n",
    "ds = ds.shuffle(100, seed=SEED, reshuffle_each_iteration=True)\n",
    "ds = ds.take(5)\n",
    "\n",
    "print([int(x) for x in ds])\n",
    "print([int(x) for x in ds])"
   ]
  },
  {
   "cell_type": "markdown",
   "id": "6ba2e658-1aa9-4566-aa48-053fea47abf2",
   "metadata": {},
   "source": [
    "## Random augmentations"
   ]
  },
  {
   "cell_type": "code",
   "execution_count": 12,
   "id": "f8394096-4ba5-4f51-9ed8-e0452cf38857",
   "metadata": {},
   "outputs": [],
   "source": [
    "@tf.function\n",
    "def augment(idx, seed):\n",
    "    value = tf.cast(idx, tf.float32) + tf.random.stateless_uniform([], seed=[seed, 0])\n",
    "    return idx, value, seed"
   ]
  },
  {
   "cell_type": "markdown",
   "id": "000360e9-c060-4235-89f2-da44cba3feb7",
   "metadata": {},
   "source": [
    "This doesn't work because both sources are reinitialized at every iteration."
   ]
  },
  {
   "cell_type": "code",
   "execution_count": 13,
   "id": "eb2c0fd3-f7fd-482d-a38f-f2251331e8c4",
   "metadata": {},
   "outputs": [
    {
     "name": "stdout",
     "output_type": "stream",
     "text": [
      "Epoch 0\n",
      "Idx\tSeed\t\tAugmented Value\n",
      "0\t2985944072\t0.5266765356063843\n",
      "1\t4132877644\t1.4821927547454834\n",
      "2\t929418493\t2.176589012145996\n",
      "3\t249609589\t3.9951331615448\n",
      "4\t146598941\t4.890170097351074\n",
      "\n",
      "Epoch 1\n",
      "Idx\tSeed\t\tAugmented Value\n",
      "0\t2985944072\t0.5266765356063843\n",
      "1\t4132877644\t1.4821927547454834\n",
      "2\t929418493\t2.176589012145996\n",
      "3\t249609589\t3.9951331615448\n",
      "4\t146598941\t4.890170097351074\n",
      "\n"
     ]
    }
   ],
   "source": [
    "ds = tf.data.Dataset.zip(\n",
    "    (\n",
    "        tf.data.Dataset.range(5),\n",
    "        tf.data.Dataset.random(SEED),\n",
    "    )\n",
    ")\n",
    "ds = ds.map(augment)\n",
    "\n",
    "for epoch in range(2):\n",
    "    print(\"Epoch\", epoch)\n",
    "    print(\"Idx\", \"Seed\\t\", \"Augmented Value\", sep=\"\\t\")\n",
    "    for idx, value, seed in ds:\n",
    "        print(int(idx), int(seed), float(value), sep=\"\\t\")\n",
    "    print()"
   ]
  },
  {
   "cell_type": "markdown",
   "id": "0d70c206-5dad-4c9f-bf23-17c9c1c648e6",
   "metadata": {},
   "source": [
    "At each iteration the same random seeds are drawn, but paired up with different samples than before."
   ]
  },
  {
   "cell_type": "code",
   "execution_count": 14,
   "id": "879442fb-104c-4a4e-81a9-c149b782960e",
   "metadata": {},
   "outputs": [
    {
     "name": "stdout",
     "output_type": "stream",
     "text": [
      "Epoch 0\n",
      "Idx\tSeed\t\tAugmented Value\n",
      "0\t4132877644\t0.4821927547454834\n",
      "4\t929418493\t4.176589012145996\n",
      "1\t146598941\t1.8901700973510742\n",
      "3\t2985944072\t3.526676654815674\n",
      "2\t249609589\t2.9951331615448\n",
      "\n",
      "Epoch 1\n",
      "Idx\tSeed\t\tAugmented Value\n",
      "3\t4132877644\t3.4821927547454834\n",
      "4\t929418493\t4.176589012145996\n",
      "1\t146598941\t1.8901700973510742\n",
      "0\t249609589\t0.9951331615447998\n",
      "2\t2985944072\t2.526676654815674\n",
      "\n"
     ]
    }
   ],
   "source": [
    "ds = tf.data.Dataset.zip(\n",
    "    (\n",
    "        tf.data.Dataset.range(5)\n",
    "            .shuffle(100, seed=SEED, reshuffle_each_iteration=True),\n",
    "        tf.data.Dataset.random(SEED)\n",
    "            .take(5)\n",
    "            .shuffle(100, seed=SEED + 1, reshuffle_each_iteration=True),\n",
    "    )\n",
    ")\n",
    "ds = ds.map(augment)\n",
    "\n",
    "for epoch in range(2):\n",
    "    print(\"Epoch\", epoch)\n",
    "    print(\"Idx\", \"Seed\\t\", \"Augmented Value\", sep=\"\\t\")\n",
    "    for idx, value, seed in ds:\n",
    "        print(int(idx), int(seed), float(value), sep=\"\\t\")\n",
    "    print()"
   ]
  },
  {
   "cell_type": "markdown",
   "id": "019716d0-b4ab-4441-bd89-e552db7a8de7",
   "metadata": {},
   "source": [
    "At each iteration the random seeds appear \"new\" thanks to the the large shuffling buffer.\n",
    "After many iterations, one would notice that only 100 different seeds exist.\n",
    "In any case, those seeds get paired with a different sample each iteration, so there will be enough variability."
   ]
  },
  {
   "cell_type": "code",
   "execution_count": 15,
   "id": "f493cb3b-b85e-4be8-9d1b-b5f1aa21105d",
   "metadata": {},
   "outputs": [
    {
     "name": "stdout",
     "output_type": "stream",
     "text": [
      "Epoch 0\n",
      "Idx\tSeed\t\tAugmented Value\n",
      "0\t3303851199\t0.8334938287734985\n",
      "4\t866379548\t4.837790489196777\n",
      "1\t1594211652\t1.474289059638977\n",
      "3\t166708789\t3.261939525604248\n",
      "2\t3450168618\t2.9714088439941406\n",
      "\n",
      "Epoch 1\n",
      "Idx\tSeed\t\tAugmented Value\n",
      "3\t1800241147\t3.1410584449768066\n",
      "4\t4095532955\t4.674937725067139\n",
      "1\t929418493\t1.1765888929367065\n",
      "0\t4003652595\t0.8614276647567749\n",
      "2\t1283632452\t2.458009719848633\n",
      "\n"
     ]
    }
   ],
   "source": [
    "@tf.function\n",
    "def augment(idx, seed):\n",
    "    value = tf.cast(idx, tf.float32) + tf.random.stateless_uniform([], seed=[seed, 0])\n",
    "    return idx, value, seed\n",
    "\n",
    "\n",
    "ds = tf.data.Dataset.zip(\n",
    "    (\n",
    "        tf.data.Dataset.range(5)\n",
    "            .shuffle(100, seed=SEED, reshuffle_each_iteration=True),\n",
    "        tf.data.Dataset.random(SEED)\n",
    "            .shuffle(100, seed=SEED, reshuffle_each_iteration=True),\n",
    "    )\n",
    ")\n",
    "ds = ds.map(augment)\n",
    "\n",
    "for epoch in range(2):\n",
    "    print(\"Epoch\", epoch)\n",
    "    print(\"Idx\", \"Seed\\t\", \"Augmented Value\", sep=\"\\t\")\n",
    "    for idx, value, seed in ds:\n",
    "        print(int(idx), int(seed), float(value), sep=\"\\t\")\n",
    "    print()"
   ]
  }
 ],
 "metadata": {
  "kernelspec": {
   "display_name": "Python 3 (ipykernel)",
   "language": "python",
   "name": "python3"
  },
  "language_info": {
   "codemirror_mode": {
    "name": "ipython",
    "version": 3
   },
   "file_extension": ".py",
   "mimetype": "text/x-python",
   "name": "python",
   "nbconvert_exporter": "python",
   "pygments_lexer": "ipython3",
   "version": "3.9.10"
  },
  "widgets": {
   "application/vnd.jupyter.widget-state+json": {
    "state": {},
    "version_major": 2,
    "version_minor": 0
   }
  }
 },
 "nbformat": 4,
 "nbformat_minor": 5
}
