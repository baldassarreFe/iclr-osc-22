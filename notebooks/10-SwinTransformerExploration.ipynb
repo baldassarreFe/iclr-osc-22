{
 "cells": [
  {
   "cell_type": "code",
   "execution_count": 1,
   "id": "25bbfd0d-9403-4c90-b15e-2cf56471b065",
   "metadata": {},
   "outputs": [],
   "source": [
    "import json\n",
    "from itertools import product\n",
    "from pathlib import Path\n",
    "\n",
    "import matplotlib.pyplot as plt\n",
    "import numpy as np\n",
    "import pandas as pd\n",
    "import PIL.Image\n",
    "import tabulate\n",
    "import timm.models.swin_transformer as st\n",
    "import torch\n",
    "from einops import rearrange\n",
    "from IPython.display import Image, display\n",
    "from skimage.filters import gaussian\n",
    "from timm.data import IMAGENET_DEFAULT_MEAN, IMAGENET_DEFAULT_STD\n",
    "from timm.models.swin_transformer import swin_tiny_patch4_window7_224\n",
    "from torchvision.transforms import CenterCrop, Normalize, ToTensor\n",
    "\n",
    "torch.hub.set_dir(Path(\"~/torchhub\").expanduser().resolve().as_posix())\n",
    "p = Path(\"10-SwinTransformerExploration/\")\n",
    "\n",
    "IMAGENET_CLASSES = json.loads(Path.read_text(p / \"imagenet_classes.json\"))\n",
    "IMAGENET_CLASSES = {int(k): v for k, v in IMAGENET_CLASSES.items()}"
   ]
  },
  {
   "cell_type": "markdown",
   "id": "e1c130fc-bf9c-4494-97a4-cf98e1c008d0",
   "metadata": {},
   "source": [
    "What combinations of architecture parameters are ok?"
   ]
  },
  {
   "cell_type": "code",
   "execution_count": 2,
   "id": "c50e54bb-4809-4ac5-bc62-31b40db5d151",
   "metadata": {},
   "outputs": [
    {
     "name": "stderr",
     "output_type": "stream",
     "text": [
      "/home/fedbal/miniconda3/envs/iclr-osc-22/lib/python3.9/site-packages/torch/functional.py:445: UserWarning: torch.meshgrid: in an upcoming release, it will be required to pass the indexing argument. (Triggered internally at  /opt/conda/conda-bld/pytorch_1640811803361/work/aten/src/ATen/native/TensorShape.cpp:2157.)\n",
      "  return _VF.meshgrid(tensors, **kwargs)  # type: ignore[attr-defined]\n"
     ]
    },
    {
     "data": {
      "text/html": [
       "<div>\n",
       "<style scoped>\n",
       "    .dataframe tbody tr th:only-of-type {\n",
       "        vertical-align: middle;\n",
       "    }\n",
       "\n",
       "    .dataframe tbody tr th {\n",
       "        vertical-align: top;\n",
       "    }\n",
       "\n",
       "    .dataframe thead th {\n",
       "        text-align: right;\n",
       "    }\n",
       "</style>\n",
       "<table border=\"1\" class=\"dataframe\">\n",
       "  <thead>\n",
       "    <tr style=\"text-align: right;\">\n",
       "      <th></th>\n",
       "      <th>img_size</th>\n",
       "      <th>patch_size</th>\n",
       "      <th>window_size</th>\n",
       "      <th>num_patches</th>\n",
       "      <th>num_windows</th>\n",
       "      <th>ok</th>\n",
       "    </tr>\n",
       "  </thead>\n",
       "  <tbody>\n",
       "    <tr>\n",
       "      <th>0</th>\n",
       "      <td>224</td>\n",
       "      <td>4</td>\n",
       "      <td>7</td>\n",
       "      <td>56.0</td>\n",
       "      <td>8.0</td>\n",
       "      <td>ok</td>\n",
       "    </tr>\n",
       "    <tr>\n",
       "      <th>1</th>\n",
       "      <td>224</td>\n",
       "      <td>4</td>\n",
       "      <td>8</td>\n",
       "      <td>56.0</td>\n",
       "      <td>7.0</td>\n",
       "      <td>shape '[1, 3, 8, 3, 8, 1]' is invalid for inpu...</td>\n",
       "    </tr>\n",
       "    <tr>\n",
       "      <th>2</th>\n",
       "      <td>224</td>\n",
       "      <td>4</td>\n",
       "      <td>12</td>\n",
       "      <td>56.0</td>\n",
       "      <td>4.7</td>\n",
       "      <td>shape '[1, 4, 12, 4, 12, 1]' is invalid for in...</td>\n",
       "    </tr>\n",
       "    <tr>\n",
       "      <th>3</th>\n",
       "      <td>224</td>\n",
       "      <td>8</td>\n",
       "      <td>7</td>\n",
       "      <td>28.0</td>\n",
       "      <td>4.0</td>\n",
       "      <td>x size (7*7) are not even.</td>\n",
       "    </tr>\n",
       "    <tr>\n",
       "      <th>4</th>\n",
       "      <td>224</td>\n",
       "      <td>8</td>\n",
       "      <td>8</td>\n",
       "      <td>28.0</td>\n",
       "      <td>3.5</td>\n",
       "      <td>shape '[1, 3, 8, 3, 8, 1]' is invalid for inpu...</td>\n",
       "    </tr>\n",
       "    <tr>\n",
       "      <th>5</th>\n",
       "      <td>224</td>\n",
       "      <td>8</td>\n",
       "      <td>12</td>\n",
       "      <td>28.0</td>\n",
       "      <td>2.3</td>\n",
       "      <td>shape '[1, 2, 12, 2, 12, 1]' is invalid for in...</td>\n",
       "    </tr>\n",
       "    <tr>\n",
       "      <th>6</th>\n",
       "      <td>224</td>\n",
       "      <td>16</td>\n",
       "      <td>7</td>\n",
       "      <td>14.0</td>\n",
       "      <td>2.0</td>\n",
       "      <td>x size (7*7) are not even.</td>\n",
       "    </tr>\n",
       "    <tr>\n",
       "      <th>7</th>\n",
       "      <td>224</td>\n",
       "      <td>16</td>\n",
       "      <td>8</td>\n",
       "      <td>14.0</td>\n",
       "      <td>1.8</td>\n",
       "      <td>shape '[1, 1, 8, 1, 8, 1]' is invalid for inpu...</td>\n",
       "    </tr>\n",
       "    <tr>\n",
       "      <th>8</th>\n",
       "      <td>224</td>\n",
       "      <td>16</td>\n",
       "      <td>12</td>\n",
       "      <td>14.0</td>\n",
       "      <td>1.2</td>\n",
       "      <td>shape '[1, 1, 12, 1, 12, 1]' is invalid for in...</td>\n",
       "    </tr>\n",
       "    <tr>\n",
       "      <th>9</th>\n",
       "      <td>224</td>\n",
       "      <td>32</td>\n",
       "      <td>7</td>\n",
       "      <td>7.0</td>\n",
       "      <td>1.0</td>\n",
       "      <td>shift_size must in 0-window_size</td>\n",
       "    </tr>\n",
       "    <tr>\n",
       "      <th>10</th>\n",
       "      <td>224</td>\n",
       "      <td>32</td>\n",
       "      <td>8</td>\n",
       "      <td>7.0</td>\n",
       "      <td>0.9</td>\n",
       "      <td>shift_size must in 0-window_size</td>\n",
       "    </tr>\n",
       "    <tr>\n",
       "      <th>11</th>\n",
       "      <td>224</td>\n",
       "      <td>32</td>\n",
       "      <td>12</td>\n",
       "      <td>7.0</td>\n",
       "      <td>0.6</td>\n",
       "      <td>shift_size must in 0-window_size</td>\n",
       "    </tr>\n",
       "    <tr>\n",
       "      <th>12</th>\n",
       "      <td>256</td>\n",
       "      <td>4</td>\n",
       "      <td>7</td>\n",
       "      <td>64.0</td>\n",
       "      <td>9.1</td>\n",
       "      <td>shape '[1, 9, 7, 9, 7, 1]' is invalid for inpu...</td>\n",
       "    </tr>\n",
       "    <tr>\n",
       "      <th>13</th>\n",
       "      <td>256</td>\n",
       "      <td>4</td>\n",
       "      <td>8</td>\n",
       "      <td>64.0</td>\n",
       "      <td>8.0</td>\n",
       "      <td>ok</td>\n",
       "    </tr>\n",
       "    <tr>\n",
       "      <th>14</th>\n",
       "      <td>256</td>\n",
       "      <td>4</td>\n",
       "      <td>12</td>\n",
       "      <td>64.0</td>\n",
       "      <td>5.3</td>\n",
       "      <td>shape '[1, 5, 12, 5, 12, 1]' is invalid for in...</td>\n",
       "    </tr>\n",
       "    <tr>\n",
       "      <th>15</th>\n",
       "      <td>256</td>\n",
       "      <td>8</td>\n",
       "      <td>7</td>\n",
       "      <td>32.0</td>\n",
       "      <td>4.6</td>\n",
       "      <td>shape '[1, 4, 7, 4, 7, 1]' is invalid for inpu...</td>\n",
       "    </tr>\n",
       "    <tr>\n",
       "      <th>16</th>\n",
       "      <td>256</td>\n",
       "      <td>8</td>\n",
       "      <td>8</td>\n",
       "      <td>32.0</td>\n",
       "      <td>4.0</td>\n",
       "      <td>ok</td>\n",
       "    </tr>\n",
       "    <tr>\n",
       "      <th>17</th>\n",
       "      <td>256</td>\n",
       "      <td>8</td>\n",
       "      <td>12</td>\n",
       "      <td>32.0</td>\n",
       "      <td>2.7</td>\n",
       "      <td>shape '[1, 2, 12, 2, 12, 1]' is invalid for in...</td>\n",
       "    </tr>\n",
       "    <tr>\n",
       "      <th>18</th>\n",
       "      <td>256</td>\n",
       "      <td>16</td>\n",
       "      <td>7</td>\n",
       "      <td>16.0</td>\n",
       "      <td>2.3</td>\n",
       "      <td>shape '[1, 2, 7, 2, 7, 1]' is invalid for inpu...</td>\n",
       "    </tr>\n",
       "    <tr>\n",
       "      <th>19</th>\n",
       "      <td>256</td>\n",
       "      <td>16</td>\n",
       "      <td>8</td>\n",
       "      <td>16.0</td>\n",
       "      <td>2.0</td>\n",
       "      <td>ok</td>\n",
       "    </tr>\n",
       "    <tr>\n",
       "      <th>20</th>\n",
       "      <td>256</td>\n",
       "      <td>16</td>\n",
       "      <td>12</td>\n",
       "      <td>16.0</td>\n",
       "      <td>1.3</td>\n",
       "      <td>shape '[1, 1, 12, 1, 12, 1]' is invalid for in...</td>\n",
       "    </tr>\n",
       "    <tr>\n",
       "      <th>21</th>\n",
       "      <td>256</td>\n",
       "      <td>32</td>\n",
       "      <td>7</td>\n",
       "      <td>8.0</td>\n",
       "      <td>1.1</td>\n",
       "      <td>shape '[1, 1, 7, 1, 7, 1]' is invalid for inpu...</td>\n",
       "    </tr>\n",
       "    <tr>\n",
       "      <th>22</th>\n",
       "      <td>256</td>\n",
       "      <td>32</td>\n",
       "      <td>8</td>\n",
       "      <td>8.0</td>\n",
       "      <td>1.0</td>\n",
       "      <td>ok</td>\n",
       "    </tr>\n",
       "    <tr>\n",
       "      <th>23</th>\n",
       "      <td>256</td>\n",
       "      <td>32</td>\n",
       "      <td>12</td>\n",
       "      <td>8.0</td>\n",
       "      <td>0.7</td>\n",
       "      <td>ok</td>\n",
       "    </tr>\n",
       "    <tr>\n",
       "      <th>24</th>\n",
       "      <td>384</td>\n",
       "      <td>4</td>\n",
       "      <td>7</td>\n",
       "      <td>96.0</td>\n",
       "      <td>13.7</td>\n",
       "      <td>shape '[1, 13, 7, 13, 7, 1]' is invalid for in...</td>\n",
       "    </tr>\n",
       "    <tr>\n",
       "      <th>25</th>\n",
       "      <td>384</td>\n",
       "      <td>4</td>\n",
       "      <td>8</td>\n",
       "      <td>96.0</td>\n",
       "      <td>12.0</td>\n",
       "      <td>shape '[1, 1, 8, 1, 8, 1]' is invalid for inpu...</td>\n",
       "    </tr>\n",
       "    <tr>\n",
       "      <th>26</th>\n",
       "      <td>384</td>\n",
       "      <td>4</td>\n",
       "      <td>12</td>\n",
       "      <td>96.0</td>\n",
       "      <td>8.0</td>\n",
       "      <td>ok</td>\n",
       "    </tr>\n",
       "    <tr>\n",
       "      <th>27</th>\n",
       "      <td>384</td>\n",
       "      <td>8</td>\n",
       "      <td>7</td>\n",
       "      <td>48.0</td>\n",
       "      <td>6.9</td>\n",
       "      <td>shape '[1, 6, 7, 6, 7, 1]' is invalid for inpu...</td>\n",
       "    </tr>\n",
       "    <tr>\n",
       "      <th>28</th>\n",
       "      <td>384</td>\n",
       "      <td>8</td>\n",
       "      <td>8</td>\n",
       "      <td>48.0</td>\n",
       "      <td>6.0</td>\n",
       "      <td>shape '[1, 1, 8, 1, 8, 1]' is invalid for inpu...</td>\n",
       "    </tr>\n",
       "    <tr>\n",
       "      <th>29</th>\n",
       "      <td>384</td>\n",
       "      <td>8</td>\n",
       "      <td>12</td>\n",
       "      <td>48.0</td>\n",
       "      <td>4.0</td>\n",
       "      <td>ok</td>\n",
       "    </tr>\n",
       "    <tr>\n",
       "      <th>30</th>\n",
       "      <td>384</td>\n",
       "      <td>16</td>\n",
       "      <td>7</td>\n",
       "      <td>24.0</td>\n",
       "      <td>3.4</td>\n",
       "      <td>shape '[1, 3, 7, 3, 7, 1]' is invalid for inpu...</td>\n",
       "    </tr>\n",
       "    <tr>\n",
       "      <th>31</th>\n",
       "      <td>384</td>\n",
       "      <td>16</td>\n",
       "      <td>8</td>\n",
       "      <td>24.0</td>\n",
       "      <td>3.0</td>\n",
       "      <td>shape '[1, 1, 8, 1, 8, 1]' is invalid for inpu...</td>\n",
       "    </tr>\n",
       "    <tr>\n",
       "      <th>32</th>\n",
       "      <td>384</td>\n",
       "      <td>16</td>\n",
       "      <td>12</td>\n",
       "      <td>24.0</td>\n",
       "      <td>2.0</td>\n",
       "      <td>ok</td>\n",
       "    </tr>\n",
       "    <tr>\n",
       "      <th>33</th>\n",
       "      <td>384</td>\n",
       "      <td>32</td>\n",
       "      <td>7</td>\n",
       "      <td>12.0</td>\n",
       "      <td>1.7</td>\n",
       "      <td>shape '[1, 1, 7, 1, 7, 1]' is invalid for inpu...</td>\n",
       "    </tr>\n",
       "    <tr>\n",
       "      <th>34</th>\n",
       "      <td>384</td>\n",
       "      <td>32</td>\n",
       "      <td>8</td>\n",
       "      <td>12.0</td>\n",
       "      <td>1.5</td>\n",
       "      <td>shape '[1, 1, 8, 1, 8, 1]' is invalid for inpu...</td>\n",
       "    </tr>\n",
       "    <tr>\n",
       "      <th>35</th>\n",
       "      <td>384</td>\n",
       "      <td>32</td>\n",
       "      <td>12</td>\n",
       "      <td>12.0</td>\n",
       "      <td>1.0</td>\n",
       "      <td>x size (3*3) are not even.</td>\n",
       "    </tr>\n",
       "  </tbody>\n",
       "</table>\n",
       "</div>"
      ],
      "text/plain": [
       "    img_size  patch_size  window_size  num_patches  num_windows  \\\n",
       "0        224           4            7         56.0          8.0   \n",
       "1        224           4            8         56.0          7.0   \n",
       "2        224           4           12         56.0          4.7   \n",
       "3        224           8            7         28.0          4.0   \n",
       "4        224           8            8         28.0          3.5   \n",
       "5        224           8           12         28.0          2.3   \n",
       "6        224          16            7         14.0          2.0   \n",
       "7        224          16            8         14.0          1.8   \n",
       "8        224          16           12         14.0          1.2   \n",
       "9        224          32            7          7.0          1.0   \n",
       "10       224          32            8          7.0          0.9   \n",
       "11       224          32           12          7.0          0.6   \n",
       "12       256           4            7         64.0          9.1   \n",
       "13       256           4            8         64.0          8.0   \n",
       "14       256           4           12         64.0          5.3   \n",
       "15       256           8            7         32.0          4.6   \n",
       "16       256           8            8         32.0          4.0   \n",
       "17       256           8           12         32.0          2.7   \n",
       "18       256          16            7         16.0          2.3   \n",
       "19       256          16            8         16.0          2.0   \n",
       "20       256          16           12         16.0          1.3   \n",
       "21       256          32            7          8.0          1.1   \n",
       "22       256          32            8          8.0          1.0   \n",
       "23       256          32           12          8.0          0.7   \n",
       "24       384           4            7         96.0         13.7   \n",
       "25       384           4            8         96.0         12.0   \n",
       "26       384           4           12         96.0          8.0   \n",
       "27       384           8            7         48.0          6.9   \n",
       "28       384           8            8         48.0          6.0   \n",
       "29       384           8           12         48.0          4.0   \n",
       "30       384          16            7         24.0          3.4   \n",
       "31       384          16            8         24.0          3.0   \n",
       "32       384          16           12         24.0          2.0   \n",
       "33       384          32            7         12.0          1.7   \n",
       "34       384          32            8         12.0          1.5   \n",
       "35       384          32           12         12.0          1.0   \n",
       "\n",
       "                                                   ok  \n",
       "0                                                 ok   \n",
       "1   shape '[1, 3, 8, 3, 8, 1]' is invalid for inpu...  \n",
       "2   shape '[1, 4, 12, 4, 12, 1]' is invalid for in...  \n",
       "3                          x size (7*7) are not even.  \n",
       "4   shape '[1, 3, 8, 3, 8, 1]' is invalid for inpu...  \n",
       "5   shape '[1, 2, 12, 2, 12, 1]' is invalid for in...  \n",
       "6                          x size (7*7) are not even.  \n",
       "7   shape '[1, 1, 8, 1, 8, 1]' is invalid for inpu...  \n",
       "8   shape '[1, 1, 12, 1, 12, 1]' is invalid for in...  \n",
       "9                    shift_size must in 0-window_size  \n",
       "10                   shift_size must in 0-window_size  \n",
       "11                   shift_size must in 0-window_size  \n",
       "12  shape '[1, 9, 7, 9, 7, 1]' is invalid for inpu...  \n",
       "13                                                ok   \n",
       "14  shape '[1, 5, 12, 5, 12, 1]' is invalid for in...  \n",
       "15  shape '[1, 4, 7, 4, 7, 1]' is invalid for inpu...  \n",
       "16                                                ok   \n",
       "17  shape '[1, 2, 12, 2, 12, 1]' is invalid for in...  \n",
       "18  shape '[1, 2, 7, 2, 7, 1]' is invalid for inpu...  \n",
       "19                                                ok   \n",
       "20  shape '[1, 1, 12, 1, 12, 1]' is invalid for in...  \n",
       "21  shape '[1, 1, 7, 1, 7, 1]' is invalid for inpu...  \n",
       "22                                                ok   \n",
       "23                                                ok   \n",
       "24  shape '[1, 13, 7, 13, 7, 1]' is invalid for in...  \n",
       "25  shape '[1, 1, 8, 1, 8, 1]' is invalid for inpu...  \n",
       "26                                                ok   \n",
       "27  shape '[1, 6, 7, 6, 7, 1]' is invalid for inpu...  \n",
       "28  shape '[1, 1, 8, 1, 8, 1]' is invalid for inpu...  \n",
       "29                                                ok   \n",
       "30  shape '[1, 3, 7, 3, 7, 1]' is invalid for inpu...  \n",
       "31  shape '[1, 1, 8, 1, 8, 1]' is invalid for inpu...  \n",
       "32                                                ok   \n",
       "33  shape '[1, 1, 7, 1, 7, 1]' is invalid for inpu...  \n",
       "34  shape '[1, 1, 8, 1, 8, 1]' is invalid for inpu...  \n",
       "35                         x size (3*3) are not even.  "
      ]
     },
     "metadata": {},
     "output_type": "display_data"
    }
   ],
   "source": [
    "def foo(img_size, patch_size, window_size, embed_dim, num_heads):\n",
    "    img = torch.rand(1, 3, img_size, img_size)\n",
    "    model = st.SwinTransformer(\n",
    "        img_size=img_size,\n",
    "        patch_size=patch_size,\n",
    "        num_classes=0,\n",
    "        window_size=window_size,\n",
    "        depths=(2, 2, 2, 2),\n",
    "        num_heads=(num_heads, num_heads, num_heads, num_heads),\n",
    "        embed_dim=embed_dim,\n",
    "    )\n",
    "    model.forward_features(img)\n",
    "\n",
    "\n",
    "df = []\n",
    "embed_dim = 128\n",
    "num_heads = 4\n",
    "for img_size, patch_size, window_size in product(\n",
    "    [224, 256, 384],\n",
    "    [4, 8, 16, 32],\n",
    "    [7, 8, 12],\n",
    "):\n",
    "    num_patches = img_size / patch_size\n",
    "    num_windows = num_patches / window_size\n",
    "    ok = \"ok \"\n",
    "    try:\n",
    "        foo(img_size, patch_size, window_size, embed_dim, num_heads)\n",
    "    except Exception as e:\n",
    "        ok = str(e)\n",
    "    df.append((img_size, patch_size, window_size, num_patches, num_windows, ok))\n",
    "\n",
    "df = pd.DataFrame(\n",
    "    df,\n",
    "    columns=[\n",
    "        \"img_size\",\n",
    "        \"patch_size\",\n",
    "        \"window_size\",\n",
    "        \"num_patches\",\n",
    "        \"num_windows\",\n",
    "        \"ok\",\n",
    "    ],\n",
    ")\n",
    "with pd.option_context(\"display.max_rows\", None):\n",
    "    display(df.round(1))"
   ]
  },
  {
   "cell_type": "markdown",
   "id": "581df663-cd71-44c8-9aff-7c41b3638424",
   "metadata": {},
   "source": [
    "Test image"
   ]
  },
  {
   "cell_type": "code",
   "execution_count": 3,
   "id": "1ef3d5ed-494f-4e45-b553-ca741b10a51a",
   "metadata": {},
   "outputs": [
    {
     "data": {
      "text/plain": [
       "torch.Size([3, 224, 224])"
      ]
     },
     "execution_count": 3,
     "metadata": {},
     "output_type": "execute_result"
    }
   ],
   "source": [
    "img_pil = PIL.Image.open(p / \"cat-dog.jpg\")\n",
    "img_pil = CenterCrop(min(img_pil.size))(img_pil)\n",
    "img_pil = img_pil.resize((224, 224))\n",
    "img = ToTensor()(img_pil)\n",
    "img = Normalize(IMAGENET_DEFAULT_MEAN, IMAGENET_DEFAULT_STD)(img)\n",
    "img.shape"
   ]
  },
  {
   "cell_type": "markdown",
   "id": "18e84d11-a1fa-4967-9df5-24a10228de6e",
   "metadata": {},
   "source": [
    "Hooks to collect intermediate features"
   ]
  },
  {
   "cell_type": "code",
   "execution_count": 4,
   "id": "a82a93dc-4bc2-432f-81f8-bdd1a0f411ab",
   "metadata": {},
   "outputs": [
    {
     "name": "stdout",
     "output_type": "stream",
     "text": [
      "           H    W    C\n",
      "-------  ---  ---  ---\n",
      "img      384  384    3\n",
      "patch     56   56   96\n",
      "layer 0   56   56   96\n",
      "layer 1   28   28  192\n",
      "layer 2   14   14  384\n",
      "layer 3    7    7  768\n"
     ]
    }
   ],
   "source": [
    "model = swin_tiny_patch4_window7_224(pretrained=True)\n",
    "model.eval()\n",
    "\n",
    "feats = []\n",
    "model.patch_embed.register_forward_hook(lambda m, i, o: feats.append(o.detach()))\n",
    "for layer in model.layers:\n",
    "    layer.blocks[-1].register_forward_hook(lambda m, i, o: feats.append(o.detach()))\n",
    "\n",
    "with torch.no_grad():\n",
    "    logits = model(img[None, :, :, :])[0]\n",
    "\n",
    "table = []\n",
    "table.append((\"img\", img_size, img_size, 3))\n",
    "table.append(\n",
    "    (\"patch\", np.sqrt(feats[0].shape[1]), np.sqrt(feats[0].shape[1]), feats[0].shape[2])\n",
    ")\n",
    "for i, f in enumerate(feats[1:]):\n",
    "    B, HW, C = f.shape\n",
    "    H = W = int(np.sqrt(HW))\n",
    "    table.append((f\"layer {i}\", H, W, C))\n",
    "print(tabulate.tabulate(table, headers=[\"\", \"H\", \"W\", \"C\"], floatfmt=\".0f\"))"
   ]
  },
  {
   "cell_type": "markdown",
   "id": "32df7e3e-5e71-4ffb-b46c-101fe542da73",
   "metadata": {},
   "source": [
    "Gradient-based explanations (with some spatial gaussian smoothing)"
   ]
  },
  {
   "cell_type": "code",
   "execution_count": 5,
   "id": "dc776ddc-2696-4644-bb40-10e6b4ae97b9",
   "metadata": {},
   "outputs": [
    {
     "data": {
      "text/html": [
       "<img src=\"10-SwinTransformerExploration/gradient-0.png\"/>"
      ],
      "text/plain": [
       "<IPython.core.display.Image object>"
      ]
     },
     "metadata": {},
     "output_type": "display_data"
    },
    {
     "data": {
      "text/html": [
       "<img src=\"10-SwinTransformerExploration/gradient-1.png\"/>"
      ],
      "text/plain": [
       "<IPython.core.display.Image object>"
      ]
     },
     "metadata": {},
     "output_type": "display_data"
    },
    {
     "data": {
      "text/html": [
       "<img src=\"10-SwinTransformerExploration/gradient-2.png\"/>"
      ],
      "text/plain": [
       "<IPython.core.display.Image object>"
      ]
     },
     "metadata": {},
     "output_type": "display_data"
    },
    {
     "data": {
      "text/html": [
       "<img src=\"10-SwinTransformerExploration/gradient-3.png\"/>"
      ],
      "text/plain": [
       "<IPython.core.display.Image object>"
      ]
     },
     "metadata": {},
     "output_type": "display_data"
    },
    {
     "data": {
      "text/html": [
       "<img src=\"10-SwinTransformerExploration/gradient-4.png\"/>"
      ],
      "text/plain": [
       "<IPython.core.display.Image object>"
      ]
     },
     "metadata": {},
     "output_type": "display_data"
    }
   ],
   "source": [
    "model = swin_tiny_patch4_window7_224(pretrained=True)\n",
    "model.eval()\n",
    "\n",
    "img.requires_grad_()\n",
    "logits = model(img[None, :, :, :])[0]\n",
    "topk = logits.softmax(-1).topk(5)\n",
    "\n",
    "for i in range(5):\n",
    "    grad, *_ = torch.autograd.grad(topk.values[i], img, retain_graph=True)\n",
    "    grad = grad.norm(dim=0).numpy()\n",
    "    grad = gaussian(grad, sigma=3)\n",
    "\n",
    "    fig, axs = plt.subplots(1, 2, figsize=(6, 3), sharex=True, sharey=True)\n",
    "    axs[0].set_title(f\"{topk.values[i]:.1%} {IMAGENET_CLASSES[int(topk.indices[i])]}\")\n",
    "    axs[0].imshow(img_pil)\n",
    "    axs[1].set_title(\"Input gradient\")\n",
    "    axs[1].imshow(grad, interpolation=\"none\", vmin=0)\n",
    "\n",
    "    fig.tight_layout()\n",
    "    fig.set_facecolor(\"white\")\n",
    "    fig.savefig(p / f\"gradient-{i}.png\")\n",
    "    plt.close(fig)\n",
    "    display(Image(url=p / f\"gradient-{i}.png\"))"
   ]
  },
  {
   "cell_type": "markdown",
   "id": "cb672237-1ce0-41cf-8a45-d8a331dca2fe",
   "metadata": {},
   "source": [
    "Hooks to collect attention maps"
   ]
  },
  {
   "cell_type": "code",
   "execution_count": 6,
   "id": "74a4699f-617c-4348-8624-8f3cf0684d63",
   "metadata": {},
   "outputs": [
    {
     "name": "stdout",
     "output_type": "stream",
     "text": [
      "name               resolution      window    shift  attn\n",
      "-----------------  ------------  --------  -------  ---------------\n",
      "layers.0.blocks.0  (56, 56)             7        0  (64, 3, 49, 49)\n",
      "layers.0.blocks.1  (56, 56)             7        3  (64, 3, 49, 49)\n",
      "layers.1.blocks.0  (28, 28)             7        0  (16, 6, 49, 49)\n",
      "layers.1.blocks.1  (28, 28)             7        3  (16, 6, 49, 49)\n",
      "layers.2.blocks.0  (14, 14)             7        0  (4, 12, 49, 49)\n",
      "layers.2.blocks.1  (14, 14)             7        3  (4, 12, 49, 49)\n",
      "layers.2.blocks.2  (14, 14)             7        0  (4, 12, 49, 49)\n",
      "layers.2.blocks.3  (14, 14)             7        3  (4, 12, 49, 49)\n",
      "layers.2.blocks.4  (14, 14)             7        0  (4, 12, 49, 49)\n",
      "layers.2.blocks.5  (14, 14)             7        3  (4, 12, 49, 49)\n",
      "layers.3.blocks.0  (7, 7)               7        0  (1, 24, 49, 49)\n",
      "layers.3.blocks.1  (7, 7)               7        0  (1, 24, 49, 49)\n"
     ]
    }
   ],
   "source": [
    "attns = {}\n",
    "\n",
    "\n",
    "def make_hook(name, res, win, shift):\n",
    "    def hook(m, i, o):\n",
    "        attns[name] = (res, win, shift, o.detach())\n",
    "\n",
    "    return hook\n",
    "\n",
    "\n",
    "model = st.swin_tiny_patch4_window7_224(pretrained=True)\n",
    "model.eval()\n",
    "\n",
    "for name, module in model.named_modules():\n",
    "    if not isinstance(module, st.SwinTransformerBlock):\n",
    "        continue\n",
    "    module.attn.softmax.register_forward_hook(\n",
    "        make_hook(name, module.input_resolution, module.window_size, module.shift_size)\n",
    "    )\n",
    "\n",
    "_ = model(img[None, :, :, :])\n",
    "\n",
    "print(\n",
    "    tabulate.tabulate(\n",
    "        [\n",
    "            (name, res, win, shift, tuple(attn.shape))\n",
    "            for name, (res, win, shift, attn) in attns.items()\n",
    "        ],\n",
    "        headers=[\"name\", \"resolution\", \"window\", \"shift\", \"attn\"],\n",
    "    )\n",
    ")"
   ]
  },
  {
   "cell_type": "markdown",
   "id": "1be19bae-d332-479b-8e10-70c91fe529ac",
   "metadata": {},
   "source": [
    "Attention visualization: for each layer, average over the heads, undo shift and merge windows"
   ]
  },
  {
   "cell_type": "code",
   "execution_count": 7,
   "id": "5c4a61e3-0539-43a7-987b-50489f22a70e",
   "metadata": {},
   "outputs": [
    {
     "name": "stdout",
     "output_type": "stream",
     "text": [
      "layers.0.blocks.0\n",
      "res=(56, 56) win=7 shift=0\n",
      "attn (64, 3, 49, 49)\n",
      "num windows: 8x8 = 64\n",
      "num patches per window: 7x7 = 49\n",
      "pixels per patch 4x4 = 16\n",
      "pixels per window 32x32 = 1024\n"
     ]
    },
    {
     "data": {
      "text/html": [
       "<img src=\"10-SwinTransformerExploration/attn.layers.0.blocks.0.png\"/>"
      ],
      "text/plain": [
       "<IPython.core.display.Image object>"
      ]
     },
     "metadata": {},
     "output_type": "display_data"
    },
    {
     "name": "stdout",
     "output_type": "stream",
     "text": [
      "layers.0.blocks.1\n",
      "res=(56, 56) win=7 shift=3\n",
      "attn (64, 3, 49, 49)\n",
      "num windows: 8x8 = 64\n",
      "num patches per window: 7x7 = 49\n",
      "pixels per patch 4x4 = 16\n",
      "pixels per window 32x32 = 1024\n"
     ]
    },
    {
     "data": {
      "text/html": [
       "<img src=\"10-SwinTransformerExploration/attn.layers.0.blocks.1.png\"/>"
      ],
      "text/plain": [
       "<IPython.core.display.Image object>"
      ]
     },
     "metadata": {},
     "output_type": "display_data"
    },
    {
     "name": "stdout",
     "output_type": "stream",
     "text": [
      "layers.1.blocks.0\n",
      "res=(28, 28) win=7 shift=0\n",
      "attn (16, 6, 49, 49)\n",
      "num windows: 4x4 = 16\n",
      "num patches per window: 7x7 = 49\n",
      "pixels per patch 8x8 = 64\n",
      "pixels per window 32x32 = 1024\n"
     ]
    },
    {
     "data": {
      "text/html": [
       "<img src=\"10-SwinTransformerExploration/attn.layers.1.blocks.0.png\"/>"
      ],
      "text/plain": [
       "<IPython.core.display.Image object>"
      ]
     },
     "metadata": {},
     "output_type": "display_data"
    },
    {
     "name": "stdout",
     "output_type": "stream",
     "text": [
      "layers.1.blocks.1\n",
      "res=(28, 28) win=7 shift=3\n",
      "attn (16, 6, 49, 49)\n",
      "num windows: 4x4 = 16\n",
      "num patches per window: 7x7 = 49\n",
      "pixels per patch 8x8 = 64\n",
      "pixels per window 32x32 = 1024\n"
     ]
    },
    {
     "data": {
      "text/html": [
       "<img src=\"10-SwinTransformerExploration/attn.layers.1.blocks.1.png\"/>"
      ],
      "text/plain": [
       "<IPython.core.display.Image object>"
      ]
     },
     "metadata": {},
     "output_type": "display_data"
    },
    {
     "name": "stdout",
     "output_type": "stream",
     "text": [
      "layers.2.blocks.0\n",
      "res=(14, 14) win=7 shift=0\n",
      "attn (4, 12, 49, 49)\n",
      "num windows: 2x2 = 4\n",
      "num patches per window: 7x7 = 49\n",
      "pixels per patch 16x16 = 256\n",
      "pixels per window 32x32 = 1024\n"
     ]
    },
    {
     "data": {
      "text/html": [
       "<img src=\"10-SwinTransformerExploration/attn.layers.2.blocks.0.png\"/>"
      ],
      "text/plain": [
       "<IPython.core.display.Image object>"
      ]
     },
     "metadata": {},
     "output_type": "display_data"
    },
    {
     "name": "stdout",
     "output_type": "stream",
     "text": [
      "layers.2.blocks.1\n",
      "res=(14, 14) win=7 shift=3\n",
      "attn (4, 12, 49, 49)\n",
      "num windows: 2x2 = 4\n",
      "num patches per window: 7x7 = 49\n",
      "pixels per patch 16x16 = 256\n",
      "pixels per window 32x32 = 1024\n"
     ]
    },
    {
     "data": {
      "text/html": [
       "<img src=\"10-SwinTransformerExploration/attn.layers.2.blocks.1.png\"/>"
      ],
      "text/plain": [
       "<IPython.core.display.Image object>"
      ]
     },
     "metadata": {},
     "output_type": "display_data"
    },
    {
     "name": "stdout",
     "output_type": "stream",
     "text": [
      "layers.2.blocks.2\n",
      "res=(14, 14) win=7 shift=0\n",
      "attn (4, 12, 49, 49)\n",
      "num windows: 2x2 = 4\n",
      "num patches per window: 7x7 = 49\n",
      "pixels per patch 16x16 = 256\n",
      "pixels per window 32x32 = 1024\n"
     ]
    },
    {
     "data": {
      "text/html": [
       "<img src=\"10-SwinTransformerExploration/attn.layers.2.blocks.2.png\"/>"
      ],
      "text/plain": [
       "<IPython.core.display.Image object>"
      ]
     },
     "metadata": {},
     "output_type": "display_data"
    },
    {
     "name": "stdout",
     "output_type": "stream",
     "text": [
      "layers.2.blocks.3\n",
      "res=(14, 14) win=7 shift=3\n",
      "attn (4, 12, 49, 49)\n",
      "num windows: 2x2 = 4\n",
      "num patches per window: 7x7 = 49\n",
      "pixels per patch 16x16 = 256\n",
      "pixels per window 32x32 = 1024\n"
     ]
    },
    {
     "data": {
      "text/html": [
       "<img src=\"10-SwinTransformerExploration/attn.layers.2.blocks.3.png\"/>"
      ],
      "text/plain": [
       "<IPython.core.display.Image object>"
      ]
     },
     "metadata": {},
     "output_type": "display_data"
    },
    {
     "name": "stdout",
     "output_type": "stream",
     "text": [
      "layers.2.blocks.4\n",
      "res=(14, 14) win=7 shift=0\n",
      "attn (4, 12, 49, 49)\n",
      "num windows: 2x2 = 4\n",
      "num patches per window: 7x7 = 49\n",
      "pixels per patch 16x16 = 256\n",
      "pixels per window 32x32 = 1024\n"
     ]
    },
    {
     "data": {
      "text/html": [
       "<img src=\"10-SwinTransformerExploration/attn.layers.2.blocks.4.png\"/>"
      ],
      "text/plain": [
       "<IPython.core.display.Image object>"
      ]
     },
     "metadata": {},
     "output_type": "display_data"
    },
    {
     "name": "stdout",
     "output_type": "stream",
     "text": [
      "layers.2.blocks.5\n",
      "res=(14, 14) win=7 shift=3\n",
      "attn (4, 12, 49, 49)\n",
      "num windows: 2x2 = 4\n",
      "num patches per window: 7x7 = 49\n",
      "pixels per patch 16x16 = 256\n",
      "pixels per window 32x32 = 1024\n"
     ]
    },
    {
     "data": {
      "text/html": [
       "<img src=\"10-SwinTransformerExploration/attn.layers.2.blocks.5.png\"/>"
      ],
      "text/plain": [
       "<IPython.core.display.Image object>"
      ]
     },
     "metadata": {},
     "output_type": "display_data"
    },
    {
     "name": "stdout",
     "output_type": "stream",
     "text": [
      "layers.3.blocks.0\n",
      "res=(7, 7) win=7 shift=0\n",
      "attn (1, 24, 49, 49)\n",
      "num windows: 1x1 = 1\n",
      "num patches per window: 7x7 = 49\n",
      "pixels per patch 32x32 = 1024\n",
      "pixels per window 32x32 = 1024\n"
     ]
    },
    {
     "data": {
      "text/html": [
       "<img src=\"10-SwinTransformerExploration/attn.layers.3.blocks.0.png\"/>"
      ],
      "text/plain": [
       "<IPython.core.display.Image object>"
      ]
     },
     "metadata": {},
     "output_type": "display_data"
    },
    {
     "name": "stdout",
     "output_type": "stream",
     "text": [
      "layers.3.blocks.1\n",
      "res=(7, 7) win=7 shift=0\n",
      "attn (1, 24, 49, 49)\n",
      "num windows: 1x1 = 1\n",
      "num patches per window: 7x7 = 49\n",
      "pixels per patch 32x32 = 1024\n",
      "pixels per window 32x32 = 1024\n"
     ]
    },
    {
     "data": {
      "text/html": [
       "<img src=\"10-SwinTransformerExploration/attn.layers.3.blocks.1.png\"/>"
      ],
      "text/plain": [
       "<IPython.core.display.Image object>"
      ]
     },
     "metadata": {},
     "output_type": "display_data"
    }
   ],
   "source": [
    "for name, (res, win, shift, attn) in attns.items():\n",
    "    print(name)\n",
    "    print(f\"{res=} {win=} {shift=}\")\n",
    "\n",
    "    # attn: [win_h*win_w, heads, patch_h*patch_w, patch_h*patch_w]\n",
    "    #                               ^queries^         ^keys^\n",
    "    res_h, res_w = res\n",
    "    win_h = win_w = int(np.sqrt(attn.shape[0]))\n",
    "    q_patch_h = q_patch_w = int(np.sqrt(attn.shape[2]))\n",
    "    k_patch_h = k_patch_w = int(np.sqrt(attn.shape[3]))\n",
    "    px_per_patch = np.array(model.patch_embed.img_size) // np.array(res)\n",
    "    px_per_window = px_per_patch * np.array([win_h, win_w])\n",
    "    assert attn.shape[2] == attn.shape[3]\n",
    "    assert res_h == q_patch_h * win_h\n",
    "    assert res_w == q_patch_w * win_w\n",
    "    print(\"attn\", tuple(attn.shape))\n",
    "    print(f\"num windows: {win_h}x{win_w} = {win_h*win_w}\")\n",
    "    print(f\"num patches per window: {q_patch_h}x{q_patch_w} = {q_patch_h*q_patch_w}\")\n",
    "    print(\n",
    "        f\"pixels per patch {px_per_patch[0]}x{px_per_patch[1]} = {np.prod(px_per_patch)}\"\n",
    "    )\n",
    "    print(\n",
    "        f\"pixels per window {px_per_window[0]}x{px_per_window[1]} = {np.prod(px_per_window)}\"\n",
    "    )\n",
    "\n",
    "    # Reduce heads by averaging\n",
    "    # attn: [win_h*win_w, queries_patch_h*queries_patch_w, keys_patch_h*keys_patch_w]\n",
    "    attn = attn.mean(1)\n",
    "\n",
    "    # Undo windowing -> Creates block-sparse matrix\n",
    "    # attn: [(win_h*win_w)*(patch_h*patch_w), (win_h*win_w)*(patch_h*patch_w)]\n",
    "    #                 ^queries^                          ^keys^\n",
    "    attn = torch.block_diag(*attn)\n",
    "\n",
    "    # Merge windows into height and width\n",
    "    attn = rearrange(\n",
    "        attn,\n",
    "        \"(q_win_h q_win_w q_patch_h q_patch_w) (k_win_h k_win_w k_patch_h k_patch_w)\"\n",
    "        \"->\"\n",
    "        \"(q_win_h q_patch_h) (q_win_w q_patch_w) (k_win_h k_patch_h) (k_win_w k_patch_w)\",\n",
    "        q_win_h=win_h,\n",
    "        q_win_w=win_w,\n",
    "        k_win_h=win_h,\n",
    "        k_win_w=win_w,\n",
    "        q_patch_h=q_patch_h,\n",
    "        q_patch_w=q_patch_w,\n",
    "        k_patch_h=k_patch_h,\n",
    "        k_patch_w=k_patch_w,\n",
    "    )\n",
    "    assert attn.shape == (res_h, res_w, res_h, res_w)\n",
    "\n",
    "    # Undo roll of *_patch_* dimensions\n",
    "    if shift != 0:\n",
    "        attn = torch.roll(attn, (shift, shift, shift, shift), dims=(0, 1, 2, 3))\n",
    "\n",
    "    fig, axs = plt.subplots(1, 2 + 5, figsize=5 * np.array([2 + 5, 1]))\n",
    "    axs[0].imshow(img_pil)\n",
    "    axs[0].set_title(\"Input Image\")\n",
    "\n",
    "    axs[1].imshow(attn.mean((0, 1)), interpolation=\"none\", vmin=0)\n",
    "    axs[1].set_title(\"Avg attn received by each patch\")\n",
    "\n",
    "    for ax, q_hw in zip(\n",
    "        axs[2:], [(0, 0), (-1, 0), (res_h // 2, res_w // 2), (0, -1), (-1, -1)]\n",
    "    ):\n",
    "        ax.imshow(attn[q_hw[0], q_hw[1], :, :], interpolation=\"none\", vmin=0)\n",
    "        ax.set_title(f\"Where does query patch {q_hw} attend?\")\n",
    "\n",
    "    fig.tight_layout()\n",
    "    fig.set_facecolor(\"white\")\n",
    "    fig.savefig(p / f\"attn.{name}.png\")\n",
    "    plt.close(fig)\n",
    "    display(Image(url=p / f\"attn.{name}.png\"))"
   ]
  }
 ],
 "metadata": {
  "kernelspec": {
   "display_name": "Python 3 (ipykernel)",
   "language": "python",
   "name": "python3"
  },
  "language_info": {
   "codemirror_mode": {
    "name": "ipython",
    "version": 3
   },
   "file_extension": ".py",
   "mimetype": "text/x-python",
   "name": "python",
   "nbconvert_exporter": "python",
   "pygments_lexer": "ipython3",
   "version": "3.9.10"
  },
  "widgets": {
   "application/vnd.jupyter.widget-state+json": {
    "state": {},
    "version_major": 2,
    "version_minor": 0
   }
  }
 },
 "nbformat": 4,
 "nbformat_minor": 5
}
