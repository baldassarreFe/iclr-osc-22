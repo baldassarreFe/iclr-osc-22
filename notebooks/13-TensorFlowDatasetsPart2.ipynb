{
 "cells": [
  {
   "cell_type": "markdown",
   "id": "690c8a12-5f55-47b4-b261-841b45590d83",
   "metadata": {},
   "source": [
    "# TensorFlow datasets part 2"
   ]
  },
  {
   "cell_type": "code",
   "execution_count": 1,
   "id": "fd9e918e-de0b-46e4-9754-da72827b8cc3",
   "metadata": {},
   "outputs": [
    {
     "name": "stderr",
     "output_type": "stream",
     "text": [
      "2022-04-26 18:14:33.974228: I tensorflow/core/platform/cpu_feature_guard.cc:151] This TensorFlow binary is optimized with oneAPI Deep Neural Network Library (oneDNN) to use the following CPU instructions in performance-critical operations:  SSE4.1 SSE4.2 AVX AVX2 FMA\n",
      "To enable them in other operations, rebuild TensorFlow with the appropriate compiler flags.\n"
     ]
    }
   ],
   "source": [
    "from itertools import islice\n",
    "\n",
    "import numpy as np\n",
    "import tensorflow as tf\n",
    "\n",
    "# Let TF info messages out\n",
    "tf.ones(123);"
   ]
  },
  {
   "cell_type": "markdown",
   "id": "a9924097-4410-4d93-a4cd-2d30511cef09",
   "metadata": {},
   "source": [
    "`ds` is a `Dataset` instance. Every time `ds` is iterated over, a new iterator is created that starts from the beginning."
   ]
  },
  {
   "cell_type": "code",
   "execution_count": 2,
   "id": "424984c8-10da-40f2-8df5-6cd040faf153",
   "metadata": {},
   "outputs": [
    {
     "name": "stdout",
     "output_type": "stream",
     "text": [
      "0 [0, 1, 2, 3]\n",
      "1 [0, 1, 2, 3]\n"
     ]
    }
   ],
   "source": [
    "ds = tf.data.Dataset.range(15)\n",
    "\n",
    "for epoch_idx in range(2):\n",
    "    samples = [x.numpy() for x in islice(ds, 4)]\n",
    "    print(epoch_idx, samples)"
   ]
  },
  {
   "cell_type": "code",
   "execution_count": 3,
   "id": "2930a113-0072-4e1a-bb14-2716e7e01d33",
   "metadata": {},
   "outputs": [
    {
     "name": "stdout",
     "output_type": "stream",
     "text": [
      "0 [0, 1, 2, 3]\n",
      "1 [0, 1, 2, 3]\n"
     ]
    }
   ],
   "source": [
    "ds = tf.data.Dataset.range(15)\n",
    "\n",
    "for epoch_idx in range(2):\n",
    "    samples = [x.numpy() for x in ds.take(4)]\n",
    "    print(epoch_idx, samples)"
   ]
  },
  {
   "cell_type": "code",
   "execution_count": 4,
   "id": "5ff3dac0-e59d-44b6-98c2-9a84a0757ee8",
   "metadata": {},
   "outputs": [
    {
     "name": "stdout",
     "output_type": "stream",
     "text": [
      "0 [2985944072, 4132877644, 929418493, 249609589]\n",
      "1 [2985944072, 4132877644, 929418493, 249609589]\n"
     ]
    }
   ],
   "source": [
    "ds = tf.data.Dataset.random(seed=42).take(15)\n",
    "\n",
    "for epoch_idx in range(2):\n",
    "    samples = [x.numpy() for x in islice(ds, 4)]\n",
    "    print(epoch_idx, samples)"
   ]
  },
  {
   "cell_type": "markdown",
   "id": "49164483-cd26-48e5-b2e2-187f39c1ce06",
   "metadata": {},
   "source": [
    "`iter()` or `.as_numpy_iterator()` create an iterator. It's possible to iterate partially and continue later."
   ]
  },
  {
   "cell_type": "code",
   "execution_count": 5,
   "id": "9d189115-6fe4-4b68-adab-e6c232b2da2b",
   "metadata": {},
   "outputs": [
    {
     "name": "stdout",
     "output_type": "stream",
     "text": [
      "0 [0, 1, 2, 3]\n",
      "1 [4, 5, 6, 7]\n"
     ]
    }
   ],
   "source": [
    "ds = tf.data.Dataset.range(15)\n",
    "ds = ds.as_numpy_iterator()\n",
    "\n",
    "for epoch_idx in range(2):\n",
    "    samples = [x for x in islice(ds, 4)]\n",
    "    print(epoch_idx, samples)"
   ]
  },
  {
   "cell_type": "code",
   "execution_count": 6,
   "id": "07e43187-73b3-4abd-87d2-c9ce7edb9b36",
   "metadata": {},
   "outputs": [
    {
     "name": "stdout",
     "output_type": "stream",
     "text": [
      "0 [0, 1, 2, 3]\n",
      "1 [4, 5, 6, 7]\n"
     ]
    }
   ],
   "source": [
    "ds = tf.data.Dataset.range(15)\n",
    "ds = iter(ds)\n",
    "\n",
    "for epoch_idx in range(2):\n",
    "    samples = [x.numpy() for x in islice(ds, 4)]\n",
    "    print(epoch_idx, samples)"
   ]
  },
  {
   "cell_type": "code",
   "execution_count": 7,
   "id": "cba19bac-6bdc-42a5-a504-0d0b3cc50df9",
   "metadata": {},
   "outputs": [
    {
     "name": "stdout",
     "output_type": "stream",
     "text": [
      "0 [2985944072, 4132877644, 929418493, 249609589]\n",
      "1 [146598941, 4149265688, 1024970628, 881762723]\n"
     ]
    }
   ],
   "source": [
    "ds = tf.data.Dataset.random(seed=42).take(15)\n",
    "ds = ds.as_numpy_iterator()\n",
    "\n",
    "for epoch_idx in range(2):\n",
    "    samples = [x for x in islice(ds, 4)]\n",
    "    print(epoch_idx, samples)"
   ]
  },
  {
   "cell_type": "code",
   "execution_count": 8,
   "id": "09d6ac1c-a627-4086-832d-7af076f6e786",
   "metadata": {},
   "outputs": [
    {
     "name": "stdout",
     "output_type": "stream",
     "text": [
      "0 [2985944072, 4132877644, 929418493, 249609589]\n",
      "1 [146598941, 4149265688, 1024970628, 881762723]\n"
     ]
    }
   ],
   "source": [
    "ds = tf.data.Dataset.random(seed=42).take(15)\n",
    "ds = iter(ds)\n",
    "\n",
    "for epoch_idx in range(2):\n",
    "    samples = [x.numpy() for x in islice(ds, 4)]\n",
    "    print(epoch_idx, samples)"
   ]
  },
  {
   "cell_type": "markdown",
   "id": "c342630d-7b27-4863-8b0e-57bf7cca6d54",
   "metadata": {},
   "source": [
    "### Example training\n",
    "\n",
    "Goals:\n",
    "- iterate in random order over a training dataset multiple times\n",
    "- augment each sample differently every time it reappears\n",
    "- suspend iteration before reaching the end of the dataset, do something else, and continue from there"
   ]
  },
  {
   "cell_type": "code",
   "execution_count": 9,
   "id": "dc64493e-e14d-41ae-b2d3-fe2c6d1e5d32",
   "metadata": {},
   "outputs": [],
   "source": [
    "@tf.function\n",
    "def augment(x, seed):\n",
    "    z = tf.cast(x, tf.float32) + tf.random.stateless_uniform([], seed=[seed, 0])\n",
    "    return x, z, seed"
   ]
  },
  {
   "cell_type": "markdown",
   "id": "687b742c-d77b-4c99-b018-96e421854778",
   "metadata": {},
   "source": [
    "Version 1:\n",
    "- All N samples are seen exactly once (in random order) in the first N steps, which corresponds to one \"epoch\"\n",
    "- Between one full iteration over the N samples and the next, the order is different\n",
    "- Random seeds are always new"
   ]
  },
  {
   "cell_type": "code",
   "execution_count": 10,
   "id": "c56e7d82-dca1-46f1-8901-95fa2368dbc3",
   "metadata": {},
   "outputs": [
    {
     "name": "stdout",
     "output_type": "stream",
     "text": [
      "Loop 0\n",
      "5\t5.53\t2985944072\n",
      "9\t9.48\t4132877644\n",
      "6\t6.18\t929418493\n",
      "4\t5.00\t249609589\n",
      "\n",
      "Loop 1\n",
      "7\t7.89\t146598941\n",
      "1\t1.01\t4149265688\n",
      "2\t2.06\t1024970628\n",
      "8\t8.99\t881762723\n",
      "\n",
      "Loop 2\n",
      "3\t3.52\t917178705\n",
      "0\t0.76\t962369086\n",
      "3\t3.27\t2744913596\n",
      "7\t7.65\t300793149\n",
      "\n",
      "Loop 3\n",
      "6\t6.51\t115963449\n",
      "5\t5.08\t2974561916\n",
      "8\t8.16\t3741344021\n",
      "4\t4.10\t3760170507\n",
      "\n"
     ]
    }
   ],
   "source": [
    "ds_train = tf.data.Dataset.range(10).shuffle(100, seed=42).repeat()\n",
    "ds_seeds = tf.data.Dataset.random(seed=42)\n",
    "ds = tf.data.Dataset.zip((ds_train, ds_seeds))\n",
    "ds = ds.map(augment)\n",
    "ds = ds.as_numpy_iterator()\n",
    "\n",
    "for loop_idx in range(4):\n",
    "    print(\"Loop\", loop_idx)\n",
    "    for x, z, seed in islice(ds, 4):\n",
    "        print(f\"{x}\\t{z:.2f}\\t{seed}\")\n",
    "    print()"
   ]
  },
  {
   "cell_type": "markdown",
   "id": "0f115e48-ef03-47f9-8b48-21029ffde96a",
   "metadata": {},
   "source": [
    "Version 2:\n",
    "- There is no guarantee that in the first N steps one will observe all N samples from the dataset (unless the shuffle buffer is much smaller than the number of samples)\n",
    "- Some samples will appear more than once (`2`, `9`) and others will not appear until much later (`3`)\n",
    "- Random seeds are always new"
   ]
  },
  {
   "cell_type": "code",
   "execution_count": 11,
   "id": "7a948ab9-a138-4e9f-a282-f340b95d24d7",
   "metadata": {},
   "outputs": [
    {
     "name": "stdout",
     "output_type": "stream",
     "text": [
      "Loop 0\n",
      "5\t5.53\t2985944072\n",
      "2\t2.48\t4132877644\n",
      "8\t8.18\t929418493\n",
      "1\t2.00\t249609589\n",
      "\n",
      "Loop 1\n",
      "7\t7.89\t146598941\n",
      "9\t9.01\t4149265688\n",
      "2\t2.06\t1024970628\n",
      "9\t9.99\t881762723\n",
      "\n",
      "Loop 2\n",
      "0\t0.52\t917178705\n",
      "4\t4.76\t962369086\n",
      "6\t6.27\t2744913596\n",
      "1\t1.65\t300793149\n",
      "\n",
      "Loop 3\n",
      "1\t1.51\t115963449\n",
      "0\t0.08\t2974561916\n",
      "9\t9.16\t3741344021\n",
      "3\t3.10\t3760170507\n",
      "\n"
     ]
    }
   ],
   "source": [
    "ds_train = tf.data.Dataset.range(10).repeat().shuffle(100, seed=42)\n",
    "ds_seeds = tf.data.Dataset.random(seed=42)\n",
    "ds = tf.data.Dataset.zip((ds_train, ds_seeds))\n",
    "ds = ds.map(augment)\n",
    "ds = ds.as_numpy_iterator()\n",
    "\n",
    "for loop_idx in range(4):\n",
    "    print(\"Loop\", loop_idx)\n",
    "    for x, z, seed in islice(ds, 4):\n",
    "        print(f\"{x}\\t{z:.2f}\\t{seed}\")\n",
    "    print()"
   ]
  },
  {
   "cell_type": "markdown",
   "id": "c79f33ee-4d80-4941-8277-9be9b10b6369",
   "metadata": {},
   "source": [
    "### Example validation\n",
    "\n",
    "Goals:\n",
    "- Each sample should be augmented in the same way every time it appears\n",
    "- No need for suspend/continue behavior"
   ]
  },
  {
   "cell_type": "code",
   "execution_count": 12,
   "id": "a574a0ad-756d-414c-8c15-d9dea2c2cb39",
   "metadata": {},
   "outputs": [
    {
     "name": "stdout",
     "output_type": "stream",
     "text": [
      "Loop 0\n",
      "90\t90.53\t2985944072\n",
      "91\t91.48\t4132877644\n",
      "92\t92.18\t929418493\n",
      "\n",
      "Loop 1\n",
      "90\t90.53\t2985944072\n",
      "91\t91.48\t4132877644\n",
      "92\t92.18\t929418493\n",
      "\n",
      "Loop 2\n",
      "90\t90.53\t2985944072\n",
      "91\t91.48\t4132877644\n",
      "92\t92.18\t929418493\n",
      "\n",
      "Loop 3\n",
      "90\t90.53\t2985944072\n",
      "91\t91.48\t4132877644\n",
      "92\t92.18\t929418493\n",
      "\n"
     ]
    }
   ],
   "source": [
    "ds_val = tf.data.Dataset.range(90, 93)\n",
    "ds_seeds = tf.data.Dataset.random(seed=42)\n",
    "ds = tf.data.Dataset.zip((ds_val, ds_seeds))\n",
    "ds = ds.map(augment)\n",
    "# Do not call iter() or as_numpy_iterator() otherwise\n",
    "# the dataset will be exhausted after the first iteration\n",
    "\n",
    "for loop_idx in range(4):\n",
    "    print(\"Loop\", loop_idx)\n",
    "    for x, z, seed in ds.as_numpy_iterator():\n",
    "        print(f\"{x}\\t{z:.2f}\\t{seed}\")\n",
    "    print()"
   ]
  },
  {
   "cell_type": "markdown",
   "id": "8ab4e662-3004-4b70-b266-d0fabfbe6bd3",
   "metadata": {},
   "source": [
    "### Example train+val\n",
    "\n",
    "`ds_train` is an infinite iterator.\n",
    "The 10 samples are iterated over in random order ensuring each one appears once in one \"epoch\".\n",
    "The random seeds for augmentation are always new.\n",
    "\n",
    "`ds_val` is a `Dataset` object that repeats identically every time it is iterated over."
   ]
  },
  {
   "cell_type": "code",
   "execution_count": 13,
   "id": "14ef52d8-33e7-4743-b999-cace250c1fcd",
   "metadata": {},
   "outputs": [
    {
     "name": "stdout",
     "output_type": "stream",
     "text": [
      "Loop 0\n",
      "  Train\n",
      "    5\t5.53\t2985944072\n",
      "    9\t9.48\t4132877644\n",
      "    6\t6.18\t929418493\n",
      "    4\t5.00\t249609589\n",
      "  Val\n",
      "    90\t90.45\t3810604164\n",
      "    91\t91.64\t4228622225\n",
      "    92\t92.69\t3523798452\n",
      "\n",
      "Loop 1\n",
      "  Train\n",
      "    7\t7.89\t146598941\n",
      "    1\t1.01\t4149265688\n",
      "    2\t2.06\t1024970628\n",
      "    8\t8.99\t881762723\n",
      "  Val\n",
      "    90\t90.45\t3810604164\n",
      "    91\t91.64\t4228622225\n",
      "    92\t92.69\t3523798452\n",
      "\n",
      "Loop 2\n",
      "  Train\n",
      "    3\t3.52\t917178705\n",
      "    0\t0.76\t962369086\n",
      "    3\t3.27\t2744913596\n",
      "    7\t7.65\t300793149\n",
      "  Val\n",
      "    90\t90.45\t3810604164\n",
      "    91\t91.64\t4228622225\n",
      "    92\t92.69\t3523798452\n",
      "\n",
      "Loop 3\n",
      "  Train\n",
      "    6\t6.51\t115963449\n",
      "    5\t5.08\t2974561916\n",
      "    8\t8.16\t3741344021\n",
      "    4\t4.10\t3760170507\n",
      "  Val\n",
      "    90\t90.45\t3810604164\n",
      "    91\t91.64\t4228622225\n",
      "    92\t92.69\t3523798452\n",
      "\n"
     ]
    }
   ],
   "source": [
    "ds_train = (\n",
    "    tf.data.Dataset.zip(\n",
    "        (\n",
    "            tf.data.Dataset.range(10).shuffle(100, seed=42).repeat(),\n",
    "            tf.data.Dataset.random(seed=42),\n",
    "        )\n",
    "    )\n",
    "    .map(augment)\n",
    "    .as_numpy_iterator()\n",
    ")\n",
    "\n",
    "ds_val = (\n",
    "    tf.data.Dataset.zip(\n",
    "        (\n",
    "            tf.data.Dataset.range(90, 93),\n",
    "            tf.data.Dataset.random(seed=42 + 1),\n",
    "        )\n",
    "    ).map(augment)\n",
    "    # Do not call iter(ds_val) or ds_val.as_numpy_iterator()\n",
    "    # otherwise the iterator will be exhausted after the first iteration\n",
    ")\n",
    "\n",
    "for loop_idx in range(4):\n",
    "    print(\"Loop\", loop_idx)\n",
    "\n",
    "    print(\"  Train\")\n",
    "    for x, z, seed in islice(ds_train, 4):\n",
    "        print(f\"    {x}\\t{z:.2f}\\t{seed}\")\n",
    "\n",
    "    print(\"  Val\")\n",
    "    for x, z, seed in ds_val.as_numpy_iterator():\n",
    "        print(f\"    {x}\\t{z:.2f}\\t{seed}\")\n",
    "\n",
    "    print()"
   ]
  }
 ],
 "metadata": {
  "kernelspec": {
   "display_name": "Python 3 (ipykernel)",
   "language": "python",
   "name": "python3"
  },
  "language_info": {
   "codemirror_mode": {
    "name": "ipython",
    "version": 3
   },
   "file_extension": ".py",
   "mimetype": "text/x-python",
   "name": "python",
   "nbconvert_exporter": "python",
   "pygments_lexer": "ipython3",
   "version": "3.9.12"
  },
  "widgets": {
   "application/vnd.jupyter.widget-state+json": {
    "state": {},
    "version_major": 2,
    "version_minor": 0
   }
  }
 },
 "nbformat": 4,
 "nbformat_minor": 5
}
